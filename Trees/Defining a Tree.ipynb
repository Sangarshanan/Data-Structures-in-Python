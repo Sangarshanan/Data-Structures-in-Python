{
 "cells": [
  {
   "cell_type": "markdown",
   "metadata": {},
   "source": [
    "# Trees:\n",
    "\n",
    "In computer science, a tree is a data structure that is modeled after nature.  Unlike trees in nature, the tree data structure is upside down: the root of the tree is on top. A tree consists of nodes and its connections are called edges. The bottom nodes are also named leaf nodes. A tree may not have a cycle.\n",
    "\n",
    "Tree is a data structure accessed beginning at the root node. Each node is either a leaf or an internal node. An internal node has one or more child nodes and is called the parent of its child nodes."
   ]
  },
  {
   "cell_type": "code",
   "execution_count": 1,
   "metadata": {
    "collapsed": true
   },
   "outputs": [],
   "source": [
    "### DEFINING A TREE ###\n",
    "\n",
    "class Tree(object):\n",
    "    def __init__(self):\n",
    "        self.left = None\n",
    "        self.right = None\n",
    "        self.data = None"
   ]
  },
  {
   "cell_type": "markdown",
   "metadata": {},
   "source": [
    "![alt text](https://www.geeksforgeeks.org/wp-content/uploads/BinaryTree3.png)"
   ]
  },
  {
   "cell_type": "code",
   "execution_count": 7,
   "metadata": {
    "collapsed": true
   },
   "outputs": [],
   "source": [
    "## ROOT ##\n",
    "root = Tree()\n",
    "root.data = \"15\"\n",
    "\n",
    "## LEFT LEAF ##\n",
    "root.left = Tree()\n",
    "root.left.data = \"10\"\n",
    "\n",
    "root.left.right = Tree()\n",
    "root.left.right.data = \"12\"\n",
    "\n",
    "root.left.left = Tree()\n",
    "root.left.left.data = \"8\"\n",
    "\n",
    "## RIGHT LEAF ##\n",
    "\n",
    "root.right = Tree()\n",
    "root.right.data = \"20\"\n",
    " \n",
    "root.right.right = Tree()\n",
    "root.right.right.data = \"25\"\n",
    "\n",
    "root.right.left = Tree()\n",
    "root.right.left.data = \"16\""
   ]
  },
  {
   "cell_type": "code",
   "execution_count": 9,
   "metadata": {},
   "outputs": [
    {
     "data": {
      "text/plain": [
       "<__main__.Tree at 0x20898445a20>"
      ]
     },
     "execution_count": 9,
     "metadata": {},
     "output_type": "execute_result"
    }
   ],
   "source": [
    "root.right.left"
   ]
  },
  {
   "cell_type": "code",
   "execution_count": 8,
   "metadata": {},
   "outputs": [
    {
     "data": {
      "text/plain": [
       "'16'"
      ]
     },
     "execution_count": 8,
     "metadata": {},
     "output_type": "execute_result"
    }
   ],
   "source": [
    "root.right.left.data"
   ]
  }
 ],
 "metadata": {
  "kernelspec": {
   "display_name": "Python 3",
   "language": "python",
   "name": "python3"
  },
  "language_info": {
   "codemirror_mode": {
    "name": "ipython",
    "version": 3
   },
   "file_extension": ".py",
   "mimetype": "text/x-python",
   "name": "python",
   "nbconvert_exporter": "python",
   "pygments_lexer": "ipython3",
   "version": "3.6.3"
  }
 },
 "nbformat": 4,
 "nbformat_minor": 2
}
