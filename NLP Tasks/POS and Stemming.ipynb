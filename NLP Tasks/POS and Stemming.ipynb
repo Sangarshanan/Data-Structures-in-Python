{
 "cells": [
  {
   "cell_type": "markdown",
   "metadata": {},
   "source": [
    "# Importing all necessary Libraries"
   ]
  },
  {
   "cell_type": "code",
   "execution_count": 60,
   "metadata": {
    "collapsed": true
   },
   "outputs": [],
   "source": [
    "import nltk\n",
    "import string\n",
    "from nltk.corpus import brown, inaugural\n",
    "from nltk.corpus import stopwords \n",
    "from nltk import LancasterStemmer\n",
    "from nltk import PorterStemmer\n",
    "stemmerporter = PorterStemmer()\n",
    "stemmerlancaster = LancasterStemmer()"
   ]
  },
  {
   "cell_type": "code",
   "execution_count": 9,
   "metadata": {},
   "outputs": [
    {
     "data": {
      "text/plain": [
       "['1789-Washington.txt',\n",
       " '1793-Washington.txt',\n",
       " '1797-Adams.txt',\n",
       " '1801-Jefferson.txt',\n",
       " '1805-Jefferson.txt',\n",
       " '1809-Madison.txt',\n",
       " '1813-Madison.txt',\n",
       " '1817-Monroe.txt',\n",
       " '1821-Monroe.txt',\n",
       " '1825-Adams.txt',\n",
       " '1829-Jackson.txt',\n",
       " '1833-Jackson.txt',\n",
       " '1837-VanBuren.txt',\n",
       " '1841-Harrison.txt',\n",
       " '1845-Polk.txt',\n",
       " '1849-Taylor.txt',\n",
       " '1853-Pierce.txt',\n",
       " '1857-Buchanan.txt']"
      ]
     },
     "execution_count": 9,
     "metadata": {},
     "output_type": "execute_result"
    }
   ],
   "source": [
    "inaugural.fileids()"
   ]
  },
  {
   "cell_type": "code",
   "execution_count": 37,
   "metadata": {
    "collapsed": true
   },
   "outputs": [],
   "source": [
    "stop_words = set(stopwords.words('english'))\n",
    "punctuation = set(string.punctuation)\n",
    "\n",
    "\n",
    "file_selected = '1841-Harrison.txt'\n",
    "speech = list(inaugural.words(file_selected))"
   ]
  },
  {
   "cell_type": "markdown",
   "metadata": {},
   "source": [
    "# Remove Stopwords and Punctuation"
   ]
  },
  {
   "cell_type": "code",
   "execution_count": 38,
   "metadata": {
    "collapsed": true
   },
   "outputs": [],
   "source": [
    "lowercase = [i.lower() for i in speech]"
   ]
  },
  {
   "cell_type": "code",
   "execution_count": 39,
   "metadata": {},
   "outputs": [],
   "source": [
    "punctuation = [ i for i in lowercase if i not in punctuation]\n",
    "cleaned = [i for i in punctuation if i not in stop_words]\n",
    "special = ['--','.\"']\n",
    "speech = [i for i in cleaned if i not in special]"
   ]
  },
  {
   "cell_type": "code",
   "execution_count": 43,
   "metadata": {},
   "outputs": [],
   "source": [
    "text = (' ').join(speech)"
   ]
  },
  {
   "cell_type": "markdown",
   "metadata": {},
   "source": [
    "# POS Tagging using NLTK"
   ]
  },
  {
   "cell_type": "code",
   "execution_count": 50,
   "metadata": {},
   "outputs": [
    {
     "name": "stdout",
     "output_type": "stream",
     "text": [
      "[('called', 'VBN'), ('retirement', 'NN'), ('supposed', 'VBD'), ('continue', 'NN'), ('residue', 'JJ'), ('life', 'NN'), ('fill', 'NN'), ('chief', 'JJ'), ('executive', 'NN'), ('office', 'NN'), ('great', 'JJ'), ('free', 'JJ'), ('nation', 'NN'), ('appear', 'VBP'), ('fellow', 'JJ'), ('citizens', 'NNS'), ('take', 'VBP'), ('oaths', 'JJ'), ('constitution', 'NN'), ('prescribes', 'NNS'), ('necessary', 'JJ'), ('qualification', 'NN'), ('performance', 'NN'), ('duties', 'NNS'), ('obedience', 'VBP'), ('custom', 'NN'), ('coeval', 'JJ'), ('government', 'NN'), ('believe', 'VBP'), ('expectations', 'NNS'), ('proceed', 'VBP'), ('present', 'JJ'), ('summary', 'JJ'), ('principles', 'NNS'), ('govern', 'VBP'), ('discharge', 'NN'), ('duties', 'NNS'), ('shall', 'MD'), ('called', 'VB'), ('upon', 'RP'), ('perform', 'NN'), ('remark', 'NN'), ('roman', 'NN'), ('consul', 'VBD'), ('early', 'JJ'), ('period', 'NN'), ('celebrated', 'VBD'), ('republic', 'JJ'), ('striking', 'VBG'), ('contrast', 'NN'), ('observable', 'JJ'), ('conduct', 'NN'), ('candidates', 'NNS'), ('offices', 'NNS'), ('power', 'NN'), ('trust', 'NN'), ('obtaining', 'VBG'), ('seldom', 'RB'), ('carrying', 'VBG'), ('latter', 'RBR'), ('case', 'NN'), ('pledges', 'VBZ'), ('promises', 'NNS'), ('made', 'VBD'), ('former', 'JJ'), ('however', 'RB'), ('much', 'JJ'), ('world', 'NN'), ('may', 'MD'), ('improved', 'VB'), ('many', 'JJ'), ('respects', 'NNS'), ('lapse', 'VBP'), ('upward', 'RB'), ('two', 'CD'), ('thousand', 'CD'), ('years', 'NNS'), ('since', 'IN'), ('remark', 'NN'), ('made', 'VBD'), ('virtuous', 'JJ'), ('indignant', 'JJ'), ('roman', 'NN'), ('fear', 'VBP'), ('strict', 'JJ'), ('examination', 'NN'), ('annals', 'NNS'), ('modern', 'JJ'), ('elective', 'JJ'), ('governments', 'NNS'), ('would', 'MD'), ('develop', 'VB'), ('similar', 'JJ'), ('instances', 'NNS'), ('violated', 'VBD'), ('confidence', 'NN'), ('although', 'IN'), ('fiat', 'JJ'), ('people', 'NNS'), ('gone', 'VBN'), ('forth', 'JJ'), ('proclaiming', 'VBG'), ('chief', 'JJ'), ('magistrate', 'NN'), ('glorious', 'JJ'), ('union', 'NN'), ('nothing', 'NN'), ('upon', 'IN'), ('part', 'NN'), ('remaining', 'VBG'), ('done', 'VBN'), ('may', 'MD'), ('thought', 'VB'), ('motive', 'NN'), ('may', 'MD'), ('exist', 'VB'), ('keep', 'VB'), ('delusion', 'NN'), ('may', 'MD'), ('supposed', 'VBN'), ('acted', 'JJ'), ('relation', 'NN'), ('principles', 'NNS'), ('opinions', 'NNS'), ('perhaps', 'RB'), ('may', 'MD'), ('assembly', 'VB'), ('come', 'VB'), ('either', 'RB'), ('prepared', 'JJ'), ('condemn', 'NN'), ('shall', 'MD'), ('deliver', 'VB'), ('approving', 'VBG'), ('doubt', 'NN'), ('sincerity', 'NN'), ('uttered', 'VBD'), ('lapse', 'JJ'), ('months', 'NNS'), ('confirm', 'VBP'), ('dispel', 'JJ'), ('fears', 'NNS'), ('outline', 'VBP'), ('principles', 'NNS'), ('govern', 'JJ'), ('measures', 'NNS'), ('adopted', 'VBN'), ('administration', 'NN'), ('yet', 'RB'), ('begun', 'VBN'), ('soon', 'RB'), ('exchanged', 'VBD'), ('immutable', 'JJ'), ('history', 'NN'), ('shall', 'MD'), ('stand', 'VB'), ('either', 'RB'), ('exonerated', 'JJ'), ('countrymen', 'NNS'), ('classed', 'VBD'), ('mass', 'NN'), ('promised', 'VBN'), ('might', 'MD'), ('deceive', 'VB'), ('flattered', 'JJ'), ('intention', 'NN'), ('betray', 'NN'), ('however', 'RB'), ('strong', 'JJ'), ('may', 'MD'), ('present', 'VB'), ('purpose', 'JJ'), ('realize', 'JJ'), ('expectations', 'NNS'), ('magnanimous', 'JJ'), ('confiding', 'VBG'), ('people', 'NNS'), ('well', 'RB'), ('understand', 'RB'), ('dangerous', 'JJ'), ('temptations', 'NNS'), ('shall', 'MD'), ('exposed', 'VBN'), ('magnitude', 'NN'), ('power', 'NN'), ('pleasure', 'NN'), ('people', 'NNS'), ('commit', 'VBP'), ('hands', 'NNS'), ('place', 'VBP'), ('chief', 'JJ'), ('confidence', 'NN'), ('upon', 'IN'), ('aid', 'NN'), ('almighty', 'NN'), ('power', 'NN'), ('hitherto', 'NN'), ('protected', 'VBD'), ('enabled', 'JJ'), ('bring', 'NN'), ('favorable', 'JJ'), ('issues', 'NNS'), ('important', 'JJ'), ('still', 'RB'), ('greatly', 'RB'), ('inferior', 'JJ'), ('trusts', 'NNS'), ('heretofore', 'RB'), ('confided', 'VBD'), ('country', 'NN'), ('broad', 'JJ'), ('foundation', 'NN'), ('upon', 'IN'), ('constitution', 'NN'), ('rests', 'NNS'), ('people', 'NNS'), ('breath', 'VBP'), ('made', 'VBN'), ('breath', 'NN'), ('unmake', 'JJ'), ('change', 'NN'), ('modify', 'NN'), ('assigned', 'VBD'), ('none', 'RB'), ('great', 'JJ'), ('divisions', 'NNS'), ('government', 'NN'), ('democracy', 'NN'), ('theory', 'NN'), ('called', 'VBN'), ('upon', 'IN'), ('administer', 'NN'), ('must', 'MD'), ('recognize', 'VB'), ('leading', 'VBG'), ('principle', 'JJ'), ('duty', 'NN'), ('shaping', 'VBG'), ('measures', 'NNS'), ('produce', 'VBP'), ('greatest', 'JJS'), ('good', 'JJ'), ('greatest', 'JJS'), ('number', 'NN'), ('broad', 'JJ'), ('admissions', 'NNS'), ('would', 'MD'), ('compare', 'VB'), ('sovereignty', 'NN'), ('acknowledged', 'VBN'), ('exist', 'JJ'), ('mass', 'NN'), ('people', 'NNS'), ('power', 'NN'), ('claimed', 'VBD'), ('sovereignties', 'NNS'), ('even', 'RB'), ('considered', 'VBD'), ('purely', 'RB'), ('democratic', 'JJ'), ('shall', 'MD'), ('find', 'VB'), ('essential', 'JJ'), ('difference', 'NN'), ('others', 'NNS'), ('lay', 'VBD'), ('claim', 'NN'), ('power', 'NN'), ('limited', 'VBD'), ('majority', 'NN'), ('citizens', 'NNS'), ('contrary', 'JJ'), ('possess', 'RB'), ('sovereignty', 'NN'), ('amount', 'NN'), ('power', 'NN'), ('precisely', 'RB'), ('equal', 'JJ'), ('granted', 'VBN'), ('parties', 'NNS'), ('national', 'JJ'), ('compact', 'JJ'), ('nothing', 'NN'), ('beyond', 'IN'), ('admit', 'JJ'), ('government', 'NN'), ('divine', 'NN'), ('right', 'RB'), ('believing', 'VBG'), ('far', 'RB'), ('power', 'NN'), ('concerned', 'JJ'), ('beneficent', 'NN'), ('creator', 'NN'), ('made', 'VBD'), ('distinction', 'NN'), ('amongst', 'IN'), ('men', 'NNS'), ('upon', 'IN'), ('equality', 'NN'), ('legitimate', 'JJ'), ('right', 'NN'), ('govern', 'NN'), ('express', 'RB'), ('grant', 'JJ'), ('power', 'NN'), ('governed', 'VBD'), ('constitution', 'NN'), ('united', 'JJ'), ('states', 'NNS'), ('instrument', 'VBP'), ('containing', 'VBG'), ('grant', 'NN'), ('power', 'NN'), ('several', 'JJ'), ('departments', 'NNS'), ('composing', 'VBG'), ('government', 'NN'), ('examination', 'NN'), ('instrument', 'NN'), ('found', 'VBD'), ('contain', 'NN'), ('declarations', 'NNS'), ('power', 'NN'), ('granted', 'VBN'), ('power', 'NN'), ('withheld', 'NN'), ('latter', 'NN'), ('also', 'RB'), ('susceptible', 'JJ'), ('division', 'NN'), ('power', 'NN'), ('majority', 'NN'), ('right', 'RB'), ('grant', 'JJ'), ('think', 'VBP'), ('proper', 'JJ'), ('intrust', 'NN'), ('agents', 'NNS'), ('could', 'MD'), ('granted', 'VB'), ('possessed', 'JJ'), ('words', 'NNS'), ('certain', 'JJ'), ('rights', 'NNS'), ('possessed', 'VBN'), ('individual', 'JJ'), ('american', 'JJ'), ('citizen', 'NN'), ('compact', 'NN'), ('others', 'NNS'), ('never', 'RB'), ('surrendered', 'VBD'), ('indeed', 'RB'), ('unable', 'JJ'), ('surrender', 'NN'), ('language', 'NN'), ('system', 'NN'), ('unalienable', 'JJ'), ('boasted', 'VBN'), ('privilege', 'NN'), ('roman', 'NN'), ('citizen', 'VBD'), ('shield', 'JJ'), ('petty', 'JJ'), ('provincial', 'JJ'), ('ruler', 'NN'), ('whilst', 'NN'), ('proud', 'JJ'), ('democrat', 'NN'), ('athens', 'NNS'), ('would', 'MD'), ('console', 'VB'), ('sentence', 'NN'), ('death', 'NN'), ('supposed', 'VBN'), ('violation', 'NN'), ('national', 'JJ'), ('faith', 'NN'), ('one', 'CD'), ('understood', 'NN'), ('times', 'NNS'), ('subject', 'JJ'), ('mockery', 'JJ'), ('banishment', 'NN'), ('home', 'NN'), ('family', 'NN'), ('country', 'NN'), ('without', 'IN'), ('alleged', 'VBN'), ('cause', 'NN'), ('act', 'NN'), ('single', 'JJ'), ('tyrant', 'NN'), ('hated', 'VBD'), ('aristocracy', 'NN'), ('assembled', 'VBN'), ('countrymen', 'NNS'), ('far', 'RB'), ('different', 'JJ'), ('power', 'NN'), ('sovereignty', 'NN'), ('interfere', 'RB'), ('one', 'CD'), ('faith', 'NN'), ('prescribe', 'NN'), ('forms', 'NNS'), ('worship', 'VBP'), ('one', 'CD'), ('observance', 'NN'), ('inflict', 'NN'), ('punishment', 'NN'), ('well', 'RB'), ('ascertained', 'VBD'), ('guilt', 'JJ'), ('result', 'NN'), ('investigation', 'NN'), ('rules', 'NNS'), ('prescribed', 'VBN'), ('constitution', 'VBP'), ('precious', 'JJ'), ('privileges', 'NNS'), ('scarcely', 'RB'), ('less', 'RBR'), ('important', 'JJ'), ('giving', 'VBG'), ('expression', 'NN'), ('thoughts', 'NNS'), ('opinions', 'NNS'), ('either', 'CC'), ('writing', 'VBG'), ('speaking', 'NN'), ('unrestrained', 'JJ'), ('liability', 'NN'), ('injury', 'NN'), ('others', 'NNS'), ('full', 'JJ'), ('participation', 'NN'), ('advantages', 'NNS'), ('flow', 'JJ'), ('government', 'NN'), ('acknowledged', 'VBD'), ('property', 'NN'), ('american', 'JJ'), ('citizen', 'NN'), ('derives', 'NNS'), ('charter', 'RB'), ('granted', 'VBD'), ('fellow', 'JJ'), ('man', 'NN'), ('claims', 'VBZ'), ('man', 'NN'), ('fashioned', 'VBD'), ('almighty', 'JJ'), ('hand', 'NN'), ('rest', 'NN'), ('species', 'NNS'), ('entitled', 'VBN'), ('full', 'JJ'), ('share', 'NN'), ('blessings', 'NNS'), ('endowed', 'VBD'), ('notwithstanding', 'VBG'), ('limited', 'JJ'), ('sovereignty', 'NN'), ('possessed', 'JJ'), ('people', 'NNS'), ('united', 'JJ'), ('stages', 'NNS'), ('restricted', 'VBN'), ('grant', 'JJ'), ('power', 'NN'), ('government', 'NN'), ('adopted', 'VBD'), ('enough', 'RB'), ('given', 'VBN'), ('accomplish', 'JJ'), ('objects', 'NNS'), ('created', 'VBN'), ('found', 'RB'), ('powerful', 'JJ'), ('war', 'NN'), ('hitherto', 'NN'), ('justice', 'NN'), ('administered', 'VBN'), ('intimate', 'NN'), ('union', 'NN'), ('effected', 'VBD'), ('domestic', 'JJ'), ('tranquillity', 'NN'), ('preserved', 'VBD'), ('personal', 'JJ'), ('liberty', 'NN'), ('secured', 'VBD'), ('citizen', 'NNS'), ('expected', 'VBN'), ('however', 'RB'), ('defect', 'JJ'), ('language', 'NN'), ('necessarily', 'RB'), ('sententious', 'JJ'), ('manner', 'NN'), ('constitution', 'NN'), ('written', 'VBN'), ('disputes', 'VBZ'), ('arisen', 'RB'), ('amount', 'JJ'), ('power', 'NN'), ('actually', 'RB'), ('granted', 'VBN'), ('intended', 'JJ'), ('grant', 'NN'), ('particularly', 'RB'), ('case', 'NN'), ('relation', 'NN'), ('part', 'NN'), ('instrument', 'NN'), ('treats', 'VBZ'), ('legislative', 'JJ'), ('branch', 'NN'), ('regards', 'NNS'), ('exercise', 'NN'), ('powers', 'NNS'), ('claimed', 'VBD'), ('general', 'JJ'), ('clause', 'NN'), ('giving', 'VBG'), ('body', 'NN'), ('authority', 'NN'), ('pass', 'NN'), ('laws', 'NNS'), ('necessary', 'JJ'), ('carry', 'VBP'), ('effect', 'NN'), ('specified', 'JJ'), ('powers', 'NNS'), ('relation', 'VBP'), ('latter', 'NN'), ('also', 'RB'), ('however', 'RB'), ('consolatory', 'JJ'), ('reflect', 'NN'), ('instances', 'NNS'), ('alleged', 'VBD'), ('departure', 'NN'), ('letter', 'NN'), ('spirit', 'NN'), ('constitution', 'NN'), ('ultimately', 'RB'), ('received', 'VBD'), ('sanction', 'JJ'), ('majority', 'NN'), ('people', 'NNS'), ('fact', 'NN'), ('many', 'JJ'), ('statesmen', 'NNS'), ('distinguished', 'VBD'), ('talent', 'JJ'), ('patriotism', 'NN'), ('one', 'CD'), ('time', 'NN'), ('political', 'JJ'), ('career', 'NN'), ('sides', 'NNS'), ('warmly', 'RB'), ('disputed', 'VBN'), ('questions', 'NNS'), ('forces', 'NNS'), ('upon', 'IN'), ('us', 'PRP'), ('inference', 'JJ'), ('errors', 'NNS'), ('errors', 'NNS'), ('attributable', 'JJ'), ('intrinsic', 'JJ'), ('difficulty', 'NN'), ('many', 'JJ'), ('instances', 'NNS'), ('ascertaining', 'VBG'), ('intentions', 'NNS'), ('framers', 'NNS'), ('constitution', 'VBP'), ('rather', 'RB'), ('influence', 'NN'), ('sinister', 'RBR'), ('unpatriotic', 'JJ'), ('motive', 'JJ'), ('great', 'JJ'), ('danger', 'NN'), ('institutions', 'NNS'), ('appear', 'VBP'), ('usurpation', 'JJ'), ('government', 'NN'), ('power', 'NN'), ('granted', 'VBD'), ('people', 'NNS'), ('accumulation', 'VBP'), ('one', 'CD'), ('departments', 'NNS'), ('assigned', 'VBD'), ('others', 'NNS'), ('limited', 'JJ'), ('powers', 'NNS'), ('granted', 'VBN'), ('still', 'RB'), ('enough', 'RB'), ('granted', 'VBN'), ('constitute', 'NN'), ('despotism', 'NN'), ('concentrated', 'VBD'), ('one', 'CD'), ('departments', 'NNS'), ('danger', 'RBR'), ('greatly', 'RB'), ('heightened', 'VBN'), ('always', 'RB'), ('observable', 'JJ'), ('men', 'NNS'), ('less', 'RBR'), ('jealous', 'JJ'), ('encroachments', 'NNS'), ('one', 'CD'), ('department', 'NN'), ('upon', 'IN'), ('another', 'DT'), ('upon', 'NN'), ('reserved', 'VBD'), ('rights', 'NNS'), ('constitution', 'NN'), ('united', 'VBD'), ('states', 'NNS'), ('first', 'RB'), ('came', 'VBD'), ('hands', 'NNS'), ('convention', 'NN'), ('formed', 'VBD'), ('many', 'JJ'), ('sternest', 'JJ'), ('republicans', 'NNS'), ('day', 'NN'), ('alarmed', 'VBD'), ('extent', 'JJ'), ('power', 'NN'), ('granted', 'VBN'), ('federal', 'JJ'), ('government', 'NN'), ('particularly', 'RB'), ('portion', 'NN'), ('assigned', 'VBD'), ('executive', 'NN'), ('branch', 'NN'), ('features', 'NNS'), ('appeared', 'VBD'), ('harmony', 'JJ'), ('ideas', 'NNS'), ('simple', 'JJ'), ('representative', 'JJ'), ('democracy', 'NN'), ('republic', 'JJ'), ('knowing', 'NN'), ('tendency', 'NN'), ('power', 'NN'), ('increase', 'NN'), ('particularly', 'RB'), ('exercised', 'JJ'), ('single', 'JJ'), ('individual', 'JJ'), ('predictions', 'NNS'), ('made', 'VBD'), ('remote', 'JJ'), ('period', 'NN'), ('government', 'NN'), ('would', 'MD'), ('terminate', 'VB'), ('virtual', 'JJ'), ('monarchy', 'NN'), ('would', 'MD'), ('become', 'VB'), ('say', 'JJ'), ('fears', 'NNS'), ('patriots', 'VBP'), ('already', 'RB'), ('realized', 'VBN'), ('sincerely', 'RB'), ('believe', 'JJ'), ('tendency', 'NN'), ('measures', 'NNS'), ('men', 'NNS'), ('opinions', 'NNS'), ('years', 'NNS'), ('past', 'JJ'), ('direction', 'NN'), ('conceive', 'NN'), ('strictly', 'RB'), ('proper', 'JJ'), ('take', 'VB'), ('occasion', 'NN'), ('repeat', 'NN'), ('assurances', 'NNS'), ('heretofore', 'VBD'), ('given', 'VBN'), ('determination', 'NN'), ('arrest', 'NN'), ('progress', 'NN'), ('tendency', 'NN'), ('really', 'RB'), ('exists', 'VBZ'), ('restore', 'JJ'), ('government', 'NN'), ('pristine', 'NN'), ('health', 'NN'), ('vigor', 'NN'), ('far', 'RB'), ('effected', 'JJ'), ('legitimate', 'JJ'), ('exercise', 'NN'), ('power', 'NN'), ('placed', 'VBD'), ('hands', 'NNS'), ('proceed', 'JJ'), ('state', 'NN'), ('summary', 'JJ'), ('manner', 'NN'), ('opinion', 'NN'), ('sources', 'NNS'), ('evils', 'VBP'), ('extensively', 'RB'), ('complained', 'VBN'), ('correctives', 'NNS'), ('may', 'MD'), ('applied', 'VB'), ('former', 'JJ'), ('unquestionably', 'RB'), ('found', 'VBN'), ('defects', 'NNS'), ('constitution', 'NN'), ('others', 'NNS'), ('judgment', 'VBP'), ('attributable', 'JJ'), ('misconstruction', 'NN'), ('provisions', 'NNS'), ('former', 'JJ'), ('eligibility', 'NN'), ('individual', 'JJ'), ('second', 'JJ'), ('term', 'NN'), ('presidency', 'NN'), ('sagacious', 'JJ'), ('mind', 'NN'), ('mr', 'NN'), ('jefferson', 'NN'), ('early', 'JJ'), ('saw', 'NN'), ('lamented', 'VBD'), ('error', 'NN'), ('attempts', 'NNS'), ('made', 'VBN'), ('hitherto', 'NN'), ('without', 'IN'), ('success', 'NN'), ('apply', 'RB'), ('amendatory', 'JJ'), ('power', 'NN'), ('states', 'NNS'), ('correction', 'VBP'), ('however', 'RB'), ('one', 'CD'), ('mode', 'NN'), ('correction', 'NN'), ('power', 'NN'), ('every', 'DT'), ('president', 'NN'), ('consequently', 'RB'), ('mine', 'NNP'), ('would', 'MD'), ('useless', 'VB'), ('perhaps', 'RB'), ('invidious', 'JJ'), ('enumerate', 'NN'), ('evils', 'NNS'), ('opinion', 'NN'), ('many', 'JJ'), ('fellow', 'JJ'), ('citizens', 'NNS'), ('error', 'NN'), ('sages', 'VBZ'), ('framed', 'VBN'), ('constitution', 'NN'), ('may', 'MD'), ('source', 'NN'), ('bitter', 'NN'), ('fruits', 'NNS'), ('still', 'RB'), ('gather', 'VBP'), ('continues', 'VBZ'), ('disfigure', 'NN'), ('system', 'NN'), ('may', 'MD'), ('observed', 'VB'), ('however', 'RB'), ('general', 'JJ'), ('remark', 'NN'), ('republics', 'NNS'), ('commit', 'VBP'), ('greater', 'JJR'), ('error', 'NN'), ('adopt', 'NN'), ('continue', 'VBP'), ('feature', 'NN'), ('systems', 'NNS'), ('government', 'NN'), ('may', 'MD'), ('calculated', 'VB'), ('create', 'NN'), ('increase', 'NN'), ('lover', 'NN'), ('power', 'NN'), ('bosoms', 'NNS'), ('necessity', 'NN'), ('obliges', 'VBZ'), ('commit', 'VBP'), ('management', 'NN'), ('affairs', 'NNS'), ('surely', 'RB'), ('nothing', 'NN'), ('likely', 'JJ'), ('produce', 'NN'), ('state', 'NN'), ('mind', 'NN'), ('long', 'JJ'), ('continuance', 'NN'), ('office', 'NN'), ('high', 'JJ'), ('trust', 'NN'), ('nothing', 'NN'), ('corrupting', 'VBG'), ('nothing', 'NN'), ('destructive', 'JJ'), ('noble', 'JJ'), ('feelings', 'NNS'), ('belong', 'JJ'), ('character', 'NN'), ('devoted', 'VBN'), ('republican', 'JJ'), ('patriot', 'NN'), ('corrupting', 'VBG'), ('passion', 'NN'), ('takes', 'VBZ'), ('possession', 'NN'), ('human', 'JJ'), ('mind', 'NN'), ('like', 'IN'), ('love', 'NN'), ('gold', 'NN'), ('becomes', 'VBZ'), ('insatiable', 'JJ'), ('never', 'RB'), ('dying', 'VBG'), ('worm', 'NN'), ('bosom', 'NN'), ('grows', 'VBZ'), ('growth', 'NN'), ('strengthens', 'VBZ'), ('declining', 'VBG'), ('years', 'NNS'), ('victim', 'RB'), ('true', 'JJ'), ('part', 'NN'), ('wisdom', 'NN'), ('republic', 'JJ'), ('limit', 'NN'), ('service', 'NN'), ('officer', 'NN'), ('least', 'JJS'), ('intrusted', 'JJ'), ('management', 'NN'), ('foreign', 'JJ'), ('relations', 'NNS'), ('execution', 'VBP'), ('laws', 'NNS'), ('command', 'VBP'), ('armies', 'NNS'), ('navies', 'NNS'), ('period', 'NN'), ('short', 'JJ'), ('prevent', 'NN'), ('forgetting', 'VBG'), ('accountable', 'JJ'), ('agent', 'NN'), ('principal', 'JJ'), ('servant', 'JJ'), ('master', 'NN'), ('amendment', 'NN'), ('constitution', 'NN'), ('effected', 'VBD'), ('public', 'JJ'), ('opinion', 'NN'), ('may', 'MD'), ('secure', 'VB'), ('desired', 'JJ'), ('object', 'JJ'), ('give', 'NN'), ('aid', 'NN'), ('renewing', 'VBG'), ('pledge', 'NN'), ('heretofore', 'NN'), ('given', 'VBN'), ('circumstances', 'NNS'), ('consent', 'JJ'), ('serve', 'VBP'), ('second', 'JJ'), ('term', 'NN'), ('danger', 'NN'), ('public', 'JJ'), ('liberty', 'NN'), ('acknowledged', 'VBD'), ('defects', 'NNS'), ('constitution', 'NN'), ('want', 'VBP'), ('limit', 'NN'), ('continuance', 'NN'), ('executive', 'NN'), ('power', 'NN'), ('hands', 'VBZ'), ('apprehend', 'RB'), ('much', 'JJ'), ('less', 'JJR'), ('misconstruction', 'NN'), ('instrument', 'NN'), ('regards', 'NNS'), ('powers', 'NNS'), ('actually', 'RB'), ('given', 'VBN'), ('conceive', 'JJ'), ('fair', 'JJ'), ('construction', 'NN'), ('either', 'DT'), ('provisions', 'NNS'), ('would', 'MD'), ('found', 'VB'), ('constitute', 'NN'), ('president', 'NN'), ('part', 'NN'), ('legislative', 'JJ'), ('power', 'NN'), ('claimed', 'VBD'), ('power', 'NN'), ('recommend', 'NN'), ('since', 'IN'), ('although', 'IN'), ('enjoined', 'VBN'), ('duty', 'NN'), ('upon', 'IN'), ('privilege', 'NN'), ('holds', 'VBZ'), ('common', 'JJ'), ('every', 'DT'), ('citizen', 'NN'), ('although', 'IN'), ('may', 'MD'), ('something', 'NN'), ('confidence', 'NN'), ('propriety', 'NN'), ('measures', 'NNS'), ('recommended', 'VBD'), ('one', 'CD'), ('case', 'NN'), ('obligations', 'NNS'), ('ultimate', 'JJ'), ('decision', 'NN'), ('difference', 'NN'), ('language', 'NN'), ('constitution', 'NN'), ('legislative', 'JJ'), ('powers', 'NNS'), ('grants', 'NNS'), ('vested', 'JJ'), ('congress', 'NN'), ('united', 'JJ'), ('states', 'NNS'), ('.', '.'), (\"''\", \"''\")]\n",
      "[('would', 'MD'), ('solecism', 'VB'), ('language', 'NN'), ('say', 'VBP'), ('portion', 'NN'), ('included', 'VBD'), ('whole', 'NN'), ('may', 'MD'), ('said', 'VBD'), ('indeed', 'RB'), ('constitution', 'NN'), ('given', 'VBN'), ('executive', 'JJ'), ('power', 'NN'), ('annul', 'JJ'), ('acts', 'NNS'), ('legislative', 'JJ'), ('body', 'NN'), ('refusing', 'VBG'), ('assent', 'JJ'), ('similar', 'JJ'), ('power', 'NN'), ('necessarily', 'RB'), ('resulted', 'VBD'), ('instrument', 'JJ'), ('judiciary', 'JJ'), ('yet', 'RB'), ('judiciary', 'JJ'), ('forms', 'NNS'), ('part', 'NN'), ('legislature', 'NN'), ('true', 'JJ'), ('difference', 'NN'), ('grants', 'NNS'), ('power', 'NN'), ('executive', 'NN'), ('put', 'VBD'), ('negative', 'JJ'), ('upon', 'IN'), ('acts', 'NNS'), ('legislature', 'VBP'), ('cause', 'NN'), ('want', 'VBP'), ('conformity', 'NN'), ('constitution', 'NN'), ('whilst', 'NN'), ('judiciary', 'NN'), ('declare', 'NN'), ('void', 'JJ'), ('violate', 'NN'), ('instrument', 'NN'), ('decision', 'NN'), ('judiciary', 'JJ'), ('final', 'JJ'), ('case', 'NN'), ('whereas', 'JJ'), ('every', 'DT'), ('instance', 'NN'), ('veto', 'NN'), ('executive', 'NN'), ('applied', 'VBD'), ('may', 'MD'), ('overcome', 'VB'), ('vote', 'NN'), ('two', 'CD'), ('thirds', 'NNS'), ('houses', 'NNS'), ('congress', 'VBP'), ('negative', 'JJ'), ('upon', 'IN'), ('acts', 'NNS'), ('legislative', 'JJ'), ('executive', 'NN'), ('authority', 'NN'), ('hands', 'VBZ'), ('one', 'CD'), ('individual', 'NN'), ('would', 'MD'), ('seem', 'VB'), ('incongruity', 'NN'), ('system', 'NN'), ('like', 'IN'), ('others', 'NNS'), ('similar', 'JJ'), ('character', 'NN'), ('however', 'RB'), ('appears', 'VBZ'), ('highly', 'RB'), ('expedient', 'JJ'), ('used', 'VBN'), ('forbearance', 'NN'), ('spirit', 'NN'), ('intended', 'VBN'), ('authors', 'NNS'), ('may', 'MD'), ('productive', 'VB'), ('great', 'JJ'), ('good', 'JJ'), ('found', 'VBD'), ('one', 'CD'), ('best', 'JJS'), ('safeguards', 'NNS'), ('union', 'NN'), ('period', 'NN'), ('formation', 'NN'), ('constitution', 'NN'), ('principle', 'NN'), ('appear', 'VBP'), ('enjoyed', 'VBN'), ('much', 'JJ'), ('favor', 'NN'), ('state', 'NN'), ('governments', 'NNS'), ('existed', 'VBD'), ('two', 'CD'), ('one', 'CD'), ('plural', 'JJ'), ('executive', 'NN'), ('would', 'MD'), ('search', 'VB'), ('motives', 'NNS'), ('operated', 'VBN'), ('upon', 'IN'), ('purely', 'RB'), ('patriotic', 'JJ'), ('enlightened', 'VBD'), ('assembly', 'RB'), ('framed', 'VBN'), ('constitution', 'NN'), ('adoption', 'NN'), ('provision', 'NN'), ('apparently', 'RB'), ('repugnant', 'JJ'), ('leading', 'VBG'), ('democratic', 'JJ'), ('principle', 'NN'), ('majority', 'NN'), ('govern', 'NN'), ('must', 'MD'), ('reject', 'VB'), ('idea', 'NN'), ('anticipated', 'VBN'), ('benefit', 'JJ'), ('ordinary', 'JJ'), ('course', 'NN'), ('legislation', 'NN'), ('knew', 'VBD'), ('well', 'RB'), ('high', 'JJ'), ('degree', 'NN'), ('intelligence', 'NN'), ('existed', 'VBD'), ('among', 'IN'), ('people', 'NNS'), ('enlightened', 'VBN'), ('character', 'JJ'), ('state', 'NN'), ('legislatures', 'NNS'), ('fullest', 'VBP'), ('confidence', 'NN'), ('two', 'CD'), ('bodies', 'NNS'), ('elected', 'VBN'), ('would', 'MD'), ('worthy', 'VB'), ('representatives', 'NNS'), ('constituents', 'NNS'), ('course', 'NN'), ('would', 'MD'), ('require', 'VB'), ('aid', 'NN'), ('conceiving', 'VBG'), ('maturing', 'VBG'), ('measures', 'NNS'), ('circumstances', 'NNS'), ('country', 'NN'), ('might', 'MD'), ('require', 'VB'), ('preposterous', 'JJ'), ('suppose', 'JJ'), ('thought', 'NN'), ('could', 'MD'), ('moment', 'NN'), ('entertained', 'VBD'), ('president', 'NN'), ('placed', 'VBN'), ('capital', 'NN'), ('center', 'NN'), ('country', 'NN'), ('could', 'MD'), ('better', 'VB'), ('understand', 'NN'), ('wants', 'VBZ'), ('wishes', 'VBZ'), ('people', 'NNS'), ('immediate', 'JJ'), ('representatives', 'NNS'), ('spend', 'VBP'), ('part', 'NN'), ('every', 'DT'), ('year', 'NN'), ('among', 'IN'), ('living', 'NN'), ('often', 'RB'), ('laboring', 'VBG'), ('bound', 'RP'), ('triple', 'JJ'), ('tie', 'JJ'), ('interest', 'NN'), ('duty', 'NN'), ('affection', 'NN'), ('assist', 'NN'), ('control', 'NN'), ('congress', 'NN'), ('ordinary', 'JJ'), ('legislation', 'NN'), ('could', 'MD'), ('conceive', 'VB'), ('motive', 'JJ'), ('conferring', 'VBG'), ('veto', 'NN'), ('power', 'NN'), ('president', 'NN'), ('argument', 'NN'), ('acquires', 'VBZ'), ('additional', 'JJ'), ('force', 'NN'), ('fact', 'NN'), ('never', 'RB'), ('thus', 'RB'), ('used', 'VBN'), ('first', 'RB'), ('six', 'CD'), ('presidents', 'NNS'), ('two', 'CD'), ('members', 'NNS'), ('convention', 'VBP'), ('one', 'CD'), ('presiding', 'NN'), ('deliberations', 'NNS'), ('bearing', 'VBG'), ('larger', 'JJR'), ('share', 'NN'), ('consummating', 'VBG'), ('labors', 'NNS'), ('august', 'VBP'), ('body', 'NN'), ('person', 'NN'), ('bills', 'NNS'), ('never', 'RB'), ('returned', 'VBD'), ('congress', 'NN'), ('either', 'CC'), ('presidents', 'NNS'), ('referred', 'VBD'), ('upon', 'IN'), ('ground', 'NN'), ('inexpedient', 'NN'), ('well', 'RB'), ('adapted', 'VBD'), ('might', 'MD'), ('wants', 'VBZ'), ('people', 'NNS'), ('veto', 'NN'), ('applied', 'VBN'), ('upon', 'IN'), ('want', 'JJ'), ('conformity', 'NN'), ('constitution', 'NN'), ('errors', 'NNS'), ('committed', 'VBD'), ('hasty', 'JJ'), ('enactment', 'NN'), ('another', 'DT'), ('ground', 'NN'), ('adoption', 'NN'), ('veto', 'NN'), ('principle', 'NN'), ('probably', 'RB'), ('influence', 'NN'), ('recommending', 'VBG'), ('convention', 'NN'), ('refer', 'VBP'), ('security', 'NN'), ('gives', 'VBZ'), ('equitable', 'JJ'), ('action', 'NN'), ('legislature', 'NN'), ('upon', 'IN'), ('parts', 'NNS'), ('union', 'NN'), ('could', 'MD'), ('occurred', 'VB'), ('convention', 'NN'), ('country', 'NN'), ('extensive', 'JJ'), ('embracing', 'VBG'), ('great', 'JJ'), ('variety', 'NN'), ('soil', 'NN'), ('climate', 'VBP'), ('consequently', 'RB'), ('products', 'NNS'), ('causes', 'VBZ'), ('must', 'MD'), ('ever', 'RB'), ('exhibit', 'VB'), ('great', 'JJ'), ('difference', 'NN'), ('amount', 'NN'), ('population', 'NN'), ('various', 'JJ'), ('sections', 'NNS'), ('calling', 'VBG'), ('great', 'JJ'), ('diversity', 'NN'), ('employments', 'NNS'), ('people', 'NNS'), ('legislation', 'NN'), ('majority', 'NN'), ('might', 'MD'), ('always', 'RB'), ('justly', 'RB'), ('regard', 'JJ'), ('rights', 'NNS'), ('interests', 'NNS'), ('minority', 'NN'), ('acts', 'VBZ'), ('character', 'NN'), ('might', 'MD'), ('passed', 'VBN'), ('express', 'VB'), ('grant', 'JJ'), ('words', 'NNS'), ('constitution', 'NN'), ('therefore', 'RB'), ('within', 'IN'), ('competency', 'NN'), ('judiciary', 'NN'), ('declare', 'NN'), ('void', 'JJ'), ('however', 'RB'), ('enlightened', 'VBN'), ('patriotic', 'JJ'), ('might', 'MD'), ('suppose', 'VB'), ('past', 'JJ'), ('experience', 'NN'), ('members', 'NNS'), ('congress', 'NN'), ('might', 'MD'), ('however', 'RB'), ('largely', 'RB'), ('partaking', 'VBG'), ('general', 'JJ'), ('liberal', 'JJ'), ('feelings', 'NNS'), ('people', 'NNS'), ('impossible', 'JJ'), ('expect', 'JJ'), ('bodies', 'NNS'), ('constituted', 'VBD'), ('sometimes', 'RB'), ('controlled', 'JJ'), ('local', 'JJ'), ('interests', 'NNS'), ('sectional', 'JJ'), ('feelings', 'NNS'), ('proper', 'IN'), ('therefore', 'RB'), ('provide', 'JJ'), ('umpire', 'NN'), ('whose', 'WP$'), ('situation', 'NN'), ('mode', 'FW'), ('appointment', 'JJ'), ('independence', 'NN'), ('freedom', 'NN'), ('influences', 'NNS'), ('might', 'MD'), ('expected', 'VB'), ('one', 'CD'), ('afforded', 'JJ'), ('executive', 'NN'), ('department', 'NN'), ('constituted', 'VBD'), ('constitution', 'NN'), ('person', 'NN'), ('elected', 'VBD'), ('high', 'JJ'), ('office', 'NN'), ('constituents', 'NNS'), ('every', 'DT'), ('section', 'NN'), ('state', 'NN'), ('subdivision', 'NN'), ('union', 'NN'), ('must', 'MD'), ('consider', 'VB'), ('bound', 'IN'), ('solemn', 'JJ'), ('sanctions', 'NNS'), ('guard', 'VBP'), ('protect', 'VBP'), ('defend', 'NN'), ('rights', 'NNS'), ('every', 'DT'), ('portion', 'NN'), ('great', 'JJ'), ('small', 'JJ'), ('injustice', 'NN'), ('oppression', 'NN'), ('rest', 'NN'), ('consider', 'NN'), ('veto', 'NN'), ('power', 'NN'), ('therefore', 'IN'), ('given', 'VBN'), ('constitution', 'NN'), ('executive', 'NN'), ('united', 'JJ'), ('states', 'NNS'), ('solely', 'RB'), ('conservative', 'JJ'), ('power', 'NN'), ('used', 'VBN'), ('first', 'RB'), ('protect', 'JJ'), ('constitution', 'NN'), ('violation', 'NN'), ('secondly', 'RB'), ('people', 'NNS'), ('effects', 'NNS'), ('hasty', 'JJ'), ('legislation', 'NN'), ('probably', 'RB'), ('disregarded', 'VBD'), ('well', 'RB'), ('understood', 'JJ'), ('thirdly', 'RB'), ('prevent', 'JJ'), ('effects', 'NNS'), ('combinations', 'NNS'), ('violative', 'JJ'), ('rights', 'NNS'), ('minorities', 'NNS'), ('reference', 'VBP'), ('second', 'JJ'), ('objects', 'NNS'), ('may', 'MD'), ('observe', 'VB'), ('consider', 'VB'), ('right', 'JJ'), ('privilege', 'NN'), ('people', 'NNS'), ('decide', 'RB'), ('disputed', 'VBN'), ('points', 'NNS'), ('constitution', 'NN'), ('arising', 'VBG'), ('general', 'JJ'), ('grant', 'NN'), ('power', 'NN'), ('congress', 'NN'), ('carry', 'VBP'), ('effect', 'NN'), ('powers', 'NNS'), ('expressly', 'RB'), ('given', 'VBN'), ('believe', 'VBP'), ('mr', 'NN'), ('madison', 'NN'), ('repeated', 'VBD'), ('recognitions', 'NNS'), ('varied', 'VBD'), ('circumstances', 'NNS'), ('acts', 'NNS'), ('legislative', 'JJ'), ('executive', 'NN'), ('judicial', 'JJ'), ('branches', 'NNS'), ('government', 'NN'), ('accompanied', 'VBD'), ('indications', 'NNS'), ('different', 'JJ'), ('modes', 'NNS'), ('concurrence', 'NN'), ('general', 'JJ'), ('nation', 'NN'), (',', ','), (\"''\", \"''\"), ('affording', 'VBG'), ('president', 'NN'), ('sufficient', 'JJ'), ('authority', 'NN'), ('considering', 'VBG'), ('disputed', 'JJ'), ('points', 'NNS'), ('settled', 'VBD'), ('upward', 'RB'), ('half', 'JJ'), ('century', 'NN'), ('elapsed', 'VBD'), ('since', 'IN'), ('adoption', 'NN'), ('present', 'JJ'), ('form', 'JJ'), ('government', 'NN'), ('would', 'MD'), ('object', 'VB'), ('highly', 'RB'), ('desirable', 'JJ'), ('gratification', 'NN'), ('curiosity', 'NN'), ('speculative', 'JJ'), ('statesmen', 'NNS'), ('precise', 'VBP'), ('situation', 'NN'), ('could', 'MD'), ('ascertained', 'VB'), ('fair', 'JJ'), ('exhibit', 'NN'), ('made', 'VBN'), ('operations', 'NNS'), ('departments', 'NNS'), ('powers', 'NNS'), ('respectively', 'RB'), ('claim', 'VBP'), ('exercise', 'NN'), ('collisions', 'NNS'), ('occurred', 'VBD'), ('whole', 'JJ'), ('government', 'NN'), ('states', 'NNS'), ('either', 'DT'), ('could', 'MD'), ('compare', 'VB'), ('actual', 'JJ'), ('condition', 'NN'), ('fifty', 'NN'), ('years', 'NNS'), ('trial', 'NN'), ('system', 'NN'), ('commencement', 'JJ'), ('operations', 'NNS'), ('ascertain', 'VBP'), ('whether', 'IN'), ('predictions', 'NNS'), ('patriots', 'NNS'), ('opposed', 'VBD'), ('adoption', 'NN'), ('confident', 'JJ'), ('hopes', 'VBZ'), ('advocates', 'NNS'), ('best', 'RB'), ('realized', 'VBN'), ('great', 'JJ'), ('dread', 'JJ'), ('former', 'JJ'), ('seems', 'VBZ'), ('reserved', 'JJ'), ('powers', 'NNS'), ('states', 'NNS'), ('would', 'MD'), ('absorbed', 'VB'), ('federal', 'JJ'), ('government', 'NN'), ('consolidated', 'VBD'), ('power', 'NN'), ('established', 'VBN'), ('leaving', 'VBG'), ('states', 'NNS'), ('shadow', 'JJ'), ('independent', 'JJ'), ('action', 'NN'), ('zealously', 'RB'), ('contended', 'VBD'), ('preservation', 'NN'), ('relied', 'VBN'), ('last', 'JJ'), ('hope', 'NN'), ('liberty', 'VBD'), ('without', 'IN'), ('denying', 'VBG'), ('result', 'NN'), ('looked', 'VBD'), ('much', 'JJ'), ('apprehension', 'NN'), ('way', 'NN'), ('realized', 'VBN'), ('obvious', 'JJ'), ('clearly', 'RB'), ('see', 'VBP'), ('mode', 'JJ'), ('accomplishment', 'JJ'), ('general', 'JJ'), ('government', 'NN'), ('seized', 'VBD'), ('upon', 'IN'), ('none', 'NN'), ('reserved', 'VBN'), ('rights', 'NNS'), ('states', 'NNS'), ('far', 'RB'), ('open', 'JJ'), ('warfare', 'NN'), ('may', 'MD'), ('gone', 'VBN'), ('state', 'NN'), ('authorities', 'NNS'), ('amply', 'VBP'), ('maintained', 'VBN'), ('rights', 'NNS'), ('casual', 'JJ'), ('observer', 'NN'), ('system', 'NN'), ('presents', 'VBZ'), ('appearance', 'RB'), ('discord', 'JJ'), ('different', 'JJ'), ('members', 'NNS'), ('compose', 'VBP'), ('even', 'RB'), ('addition', 'NN'), ('many', 'JJ'), ('new', 'JJ'), ('ones', 'NNS'), ('produced', 'VBN'), ('jarring', 'VBG'), ('move', 'NN'), ('respective', 'NN'), ('orbits', 'NNS'), ('perfect', 'VBP'), ('harmony', 'JJ'), ('central', 'JJ'), ('head', 'NN'), ('still', 'RB'), ('undercurrent', 'JJ'), ('work', 'NN'), ('seasonably', 'RB'), ('checked', 'VBD'), ('worst', 'JJS'), ('apprehensions', 'NNS'), ('antifederal', 'JJ'), ('patriots', 'NNS'), ('realized', 'VBN'), ('state', 'NN'), ('authorities', 'NNS'), ('overshadowed', 'VBD'), ('great', 'JJ'), ('increase', 'NN'), ('power', 'NN'), ('executive', 'NN'), ('department', 'NN'), ('general', 'JJ'), ('government', 'NN'), ('character', 'NN'), ('government', 'NN'), ('designation', 'NN'), ('essentially', 'RB'), ('radically', 'RB'), ('changed', 'VBN'), ('state', 'NN'), ('things', 'NNS'), ('part', 'NN'), ('effected', 'VBD'), ('causes', 'NNS'), ('inherent', 'JJ'), ('constitution', 'NN'), ('part', 'NN'), ('never', 'RB'), ('failing', 'VBG'), ('tendency', 'NN'), ('political', 'JJ'), ('power', 'NN'), ('increase', 'NN'), ('making', 'VBG'), ('president', 'NN'), ('sole', 'JJ'), ('distributer', 'NN'), ('patronage', 'NN'), ('government', 'NN'), ('framers', 'NNS'), ('constitution', 'VBP'), ('appear', 'RB'), ('anticipated', 'VBN'), ('short', 'JJ'), ('period', 'NN'), ('would', 'MD'), ('become', 'VB'), ('formidable', 'JJ'), ('instrument', 'JJ'), ('control', 'NN'), ('free', 'JJ'), ('operations', 'NNS'), ('state', 'NN'), ('governments', 'NNS'), ('trifling', 'VBG'), ('importance', 'NN'), ('first', 'RB'), ('early', 'JJ'), ('mr', 'NN'), ('jefferson', 'NN'), ('administration', 'NN'), ('become', 'VBP'), ('powerful', 'JJ'), ('create', 'JJ'), ('great', 'JJ'), ('alarm', 'NN'), ('mind', 'NN'), ('patriot', 'NN'), ('potent', 'JJ'), ('influence', 'NN'), ('might', 'MD'), ('exert', 'VB'), ('controlling', 'VBG'), ('freedom', 'RB'), ('elective', 'JJ'), ('franchise', 'NN'), ('could', 'MD'), ('effects', 'NNS'), ('influence', 'VB'), ('much', 'RB'), ('greater', 'JJR'), ('must', 'MD'), ('danger', 'VB'), ('time', 'NN'), ('quadrupled', 'JJ'), ('amount', 'NN'), ('certainly', 'RB'), ('completely', 'RB'), ('control', 'JJ'), ('executive', 'NN'), ('construction', 'NN'), ('powers', 'NNS'), ('allowed', 'VBD'), ('forbearing', 'VBG'), ('characters', 'NNS'), ('early', 'JJ'), ('presidents', 'NNS'), ('permitted', 'VBD'), ('make', 'JJ'), ('extent', 'JJ'), ('patronage', 'NN'), ('alone', 'RB'), ('executive', 'JJ'), ('department', 'NN'), ('become', 'RB'), ('dangerous', 'JJ'), ('use', 'NN'), ('appears', 'VBZ'), ('may', 'MD'), ('made', 'VB'), ('appointing', 'VBG'), ('power', 'NN'), ('bring', 'NN'), ('control', 'NN'), ('whole', 'JJ'), ('revenues', 'NNS'), ('country', 'NN'), ('constitution', 'NN'), ('declared', 'VBN'), ('duty', 'NN'), ('president', 'NN'), ('see', 'VBP'), ('laws', 'NNS'), ('executed', 'VBN'), ('makes', 'VBZ'), ('commander', 'NN'), ('chief', 'JJ'), ('armies', 'NNS'), ('navy', 'VBP'), ('united', 'JJ'), ('states', 'NNS'), ('opinion', 'NN'), ('approved', 'VBD'), ('writers', 'NNS'), ('upon', 'IN'), ('species', 'NNS'), ('mixed', 'JJ'), ('government', 'NN'), ('modern', 'NNP'), ('europe', 'NN'), ('termed', 'VBD'), ('monarchy', 'JJ'), ('contradistinction', 'NN'), ('despotism', 'NN'), ('correct', 'VBP'), ('wanting', 'VBG'), ('addition', 'NN'), ('powers', 'NNS'), ('chief', 'JJ'), ('magistrate', 'NN'), ('stamp', 'NN'), ('monarchical', 'JJ'), ('character', 'JJ'), ('government', 'NN'), ('control', 'NN'), ('public', 'JJ'), ('finances', 'NNS'), ('appears', 'VBZ'), ('strange', 'JJ'), ('indeed', 'RB'), ('anyone', 'NN'), ('doubt', 'NN'), ('entire', 'JJ'), ('control', 'NN'), ('president', 'NN'), ('possesses', 'VBZ'), ('officers', 'NNS'), ('custody', 'VBP'), ('public', 'JJ'), ('money', 'NN'), ('power', 'NN'), ('removal', 'NN'), ('without', 'IN'), ('cause', 'NN'), ('mischievous', 'JJ'), ('purposes', 'NNS'), ('least', 'JJS'), ('virtually', 'RB'), ('subject', 'JJ'), ('treasure', 'NN'), ('also', 'RB'), ('disposal', 'VBD'), ('first', 'JJ'), ('roman', 'NN'), ('emperor', 'NN'), ('attempt', 'NN'), ('seize', 'NN'), ('sacred', 'VBD'), ('treasure', 'NN'), ('silenced', 'VBN'), ('opposition', 'NN'), ('officer', 'NN'), ('whose', 'WP$'), ('charge', 'NN'), ('committed', 'VBD'), ('significant', 'JJ'), ('allusion', 'NN'), ('sword', 'NN'), ('selection', 'NN'), ('political', 'JJ'), ('instruments', 'NNS'), ('care', 'VB'), ('public', 'JJ'), ('money', 'NN'), ('reference', 'NN'), ('commissions', 'NNS'), ('president', 'NN'), ('would', 'MD'), ('quite', 'VB'), ('effectual', 'JJ'), ('argument', 'NN'), ('caesar', 'NN'), ('roman', 'NN'), ('knight', 'VBD'), ('insensible', 'JJ'), ('great', 'JJ'), ('difficulty', 'NN'), ('exists', 'VBZ'), ('drawing', 'VBG'), ('proper', 'JJ'), ('plan', 'NN'), ('safe', 'JJ'), ('keeping', 'VBG'), ('disbursement', 'JJ'), ('public', 'JJ'), ('revenues', 'NNS'), ('know', 'VBP'), ('importance', 'NN'), ('attached', 'VBN'), ('men', 'NNS'), ('great', 'JJ'), ('abilities', 'NNS'), ('patriotism', 'NN'), ('divorce', 'NN'), ('called', 'VBD'), ('treasury', 'NN'), ('banking', 'NN'), ('institutions', 'NNS'), ('divorce', 'NN'), ('complained', 'VBD'), ('unhallowed', 'JJ'), ('union', 'NN'), ('treasury', 'NN'), ('executive', 'NN'), ('department', 'NN'), ('created', 'VBD'), ('extensive', 'JJ'), ('alarm', 'NN'), ('danger', 'NN'), ('republican', 'JJ'), ('institutions', 'NNS'), ('created', 'VBD'), ('influence', 'NN'), ('given', 'VBN'), ('executive', 'NN'), ('instrumentality', 'NN'), ('federal', 'JJ'), ('officers', 'NNS'), ('propose', 'VBP'), ('apply', 'JJ'), ('remedies', 'NNS'), ('may', 'MD'), ('command', 'VB'), ('certainly', 'RB'), ('great', 'JJ'), ('error', 'NN'), ('framers', 'NNS'), ('constitution', 'NN'), ('made', 'VBD'), ('officer', 'NN'), ('head', 'JJ'), ('treasury', 'NN'), ('department', 'NN'), ('entirely', 'RB'), ('independent', 'JJ'), ('executive', 'NN'), ('least', 'JJS'), ('removable', 'JJ'), ('upon', 'JJ'), ('demand', 'NN'), ('popular', 'JJ'), ('branch', 'NN'), ('legislature', 'NN'), ('determined', 'VBD'), ('never', 'RB'), ('remove', 'VB'), ('secretary', 'NN'), ('treasury', 'NN'), ('without', 'IN'), ('communicating', 'VBG'), ('circumstances', 'NNS'), ('attending', 'VBG'), ('removal', 'NN'), ('houses', 'NNS'), ('congress', 'JJ'), ('influence', 'NN'), ('executive', 'NN'), ('controlling', 'VBG'), ('freedom', 'JJ'), ('elective', 'JJ'), ('franchise', 'NN'), ('medium', 'NN'), ('public', 'JJ'), ('officers', 'NNS'), ('effectually', 'RB'), ('checked', 'VBD'), ('renewing', 'VBG'), ('prohibition', 'NN'), ('published', 'VBN'), ('mr', 'JJ'), ('jefferson', 'NN'), ('forbidding', 'VBG'), ('interference', 'NN'), ('elections', 'NNS'), ('giving', 'VBG'), ('votes', 'NNS'), ('independence', 'NN'), ('secured', 'VBN'), ('assurance', 'NN'), ('perfect', 'JJ'), ('immunity', 'NN'), ('exercising', 'VBG'), ('sacred', 'JJ'), ('privilege', 'NN'), ('freemen', 'NNS'), ('dictates', 'NNS'), ('unbiased', 'JJ'), ('judgments', 'NNS'), ('never', 'RB'), ('consent', 'VBP'), ('shall', 'MD'), ('officer', 'NN'), ('people', 'NNS'), ('compensated', 'VBD'), ('services', 'NNS'), ('pockets', 'NNS'), ('become', 'VBP'), ('pliant', 'JJ'), ('instrument', 'JJ'), ('executive', 'NN'), ('part', 'NN'), ('means', 'VBZ'), ('placed', 'VBN'), ('hands', 'NNS'), ('executive', 'NN'), ('might', 'MD'), ('used', 'VBN'), ('greater', 'JJR'), ('effect', 'NN'), ('unhallowed', 'JJ'), ('purposes', 'NNS'), ('control', 'VBP'), ('public', 'JJ'), ('press', 'NN'), ('maxim', 'NN'), ('ancestors', 'NNS'), ('derived', 'VBD'), ('mother', 'RB'), ('country', 'NN'), ('freedom', 'NN'), ('press', 'NN'), ('great', 'JJ'), ('bulwark', 'NN'), ('civil', 'JJ'), ('religious', 'JJ'), ('liberty', 'NN'), ('one', 'CD'), ('precious', 'JJ'), ('legacies', 'NNS'), ('left', 'VBD'), ('us', 'PRP'), ('learned', 'VBD'), ('well', 'RB'), ('experience', 'JJ'), ('countries', 'NNS'), ('golden', 'JJ'), ('shackles', 'NNS'), ('whomsoever', 'WDT'), ('whatever', 'WDT'), ('pretense', 'NN'), ('imposed', 'VBN'), ('fatal', 'JJ'), ('iron', 'NN'), ('bonds', 'NNS'), ('despotism', 'VBP'), ('presses', 'NNS'), ('necessary', 'JJ'), ('employment', 'NN'), ('government', 'NN'), ('never', 'RB'), ('used', 'VBD'), ('clear', 'JJ'), ('guilty', 'JJ'), ('varnish', 'JJ'), ('crime', 'NN'), ('.', '.'), (\"''\", \"''\")]\n",
      "[('decent', 'NN'), ('manly', 'RB'), ('examination', 'NN'), ('acts', 'VBZ'), ('government', 'NN'), ('tolerated', 'VBD'), ('encouraged', 'VBN'), ('upon', 'IN'), ('another', 'DT'), ('occasion', 'NN'), ('given', 'VBN'), ('opinion', 'NN'), ('length', 'NN'), ('upon', 'IN'), ('impropriety', 'NN'), ('executive', 'NN'), ('interference', 'NN'), ('legislation', 'NN'), ('congress', 'NN'), ('article', 'NN'), ('constitution', 'NN'), ('making', 'VBG'), ('duty', 'JJ'), ('president', 'NN'), ('communicate', 'NN'), ('information', 'NN'), ('authorizing', 'VBG'), ('recommend', 'NN'), ('measures', 'NNS'), ('intended', 'VBD'), ('make', 'VBP'), ('source', 'NN'), ('legislation', 'NN'), ('particular', 'JJ'), ('never', 'RB'), ('looked', 'VBD'), ('schemes', 'NNS'), ('finance', 'NN'), ('would', 'MD'), ('strange', 'VB'), ('indeed', 'RB'), ('constitution', 'NN'), ('strictly', 'RB'), ('forbidden', 'VBZ'), ('one', 'CD'), ('branch', 'NN'), ('legislature', 'NN'), ('interfering', 'VBG'), ('origination', 'NN'), ('bills', 'NNS'), ('considered', 'VBN'), ('proper', 'IN'), ('altogether', 'RB'), ('different', 'JJ'), ('department', 'NN'), ('government', 'NN'), ('permitted', 'VBD'), ('best', 'RB'), ('political', 'JJ'), ('maxims', 'NNS'), ('opinions', 'NNS'), ('drawn', 'VBP'), ('parent', 'NN'), ('isle', 'NN'), ('others', 'NNS'), ('however', 'RB'), ('introduced', 'VBD'), ('system', 'NN'), ('without', 'IN'), ('singular', 'JJ'), ('incongruity', 'NN'), ('production', 'NN'), ('much', 'JJ'), ('mischief', 'NN'), ('conceive', 'JJ'), ('one', 'CD'), ('matter', 'NN'), ('houses', 'NNS'), ('parliament', 'VBP'), ('bill', 'NN'), ('may', 'MD'), ('originate', 'VB'), ('introduced', 'JJ'), ('minister', 'NN'), ('member', 'NN'), ('opposition', 'NN'), ('fiction', 'NN'), ('law', 'NN'), ('rather', 'RB'), ('constitutional', 'JJ'), ('principle', 'NN'), ('sovereign', 'NN'), ('supposed', 'VBD'), ('prepared', 'JJ'), ('agreeably', 'RB'), ('submitted', 'VBN'), ('parliament', 'JJ'), ('advice', 'NN'), ('consent', 'NN'), ('reverse', 'NN'), ('case', 'NN'), ('regard', 'NN'), ('principle', 'NN'), ('forms', 'NNS'), ('prescribed', 'VBN'), ('constitution', 'NN'), ('principle', 'NN'), ('certainly', 'RB'), ('assigns', 'VBZ'), ('body', 'NN'), ('constituted', 'JJ'), ('constitution', 'NN'), ('legislative', 'JJ'), ('body', 'NN'), ('power', 'NN'), ('make', 'VBP'), ('laws', 'NNS'), ('forms', 'NNS'), ('even', 'RB'), ('direct', 'JJ'), ('enactment', 'NN'), ('ascribed', 'VBD'), ('senate', 'JJ'), ('relation', 'NN'), ('revenue', 'NN'), ('bills', 'NNS'), ('right', 'RB'), ('propose', 'VBP'), ('amendments', 'NNS'), ('executive', 'JJ'), ('power', 'NN'), ('given', 'VBN'), ('return', 'NN'), ('house', 'NN'), ('representatives', 'NNS'), ('objections', 'NNS'), ('power', 'NN'), ('also', 'RB'), ('propose', 'JJ'), ('amendments', 'NNS'), ('existing', 'VBG'), ('revenue', 'NN'), ('laws', 'NNS'), ('suggested', 'VBD'), ('observations', 'NNS'), ('upon', 'IN'), ('defective', 'JJ'), ('injurious', 'JJ'), ('operation', 'NN'), ('delicate', 'NN'), ('duty', 'NN'), ('devising', 'VBG'), ('schemes', 'NNS'), ('revenue', 'NN'), ('left', 'VBD'), ('constitution', 'NN'), ('placed', 'VBN'), ('immediate', 'JJ'), ('representatives', 'NNS'), ('people', 'NNS'), ('similar', 'JJ'), ('reasons', 'NNS'), ('mode', 'VBP'), ('keeping', 'VBG'), ('public', 'JJ'), ('treasure', 'NN'), ('prescribed', 'VBN'), ('removed', 'VBN'), ('may', 'MD'), ('control', 'VB'), ('executive', 'JJ'), ('wholesome', 'JJ'), ('arrangement', 'NN'), ('accordance', 'NN'), ('republican', 'JJ'), ('principle', 'NN'), ('connected', 'VBN'), ('subject', 'JJ'), ('character', 'NN'), ('currency', 'NN'), ('idea', 'NN'), ('making', 'VBG'), ('exclusively', 'RB'), ('metallic', 'JJ'), ('however', 'RB'), ('well', 'RB'), ('intended', 'JJ'), ('appears', 'VBZ'), ('fraught', 'JJ'), ('fatal', 'JJ'), ('consequences', 'NNS'), ('scheme', 'NN'), ('relation', 'NN'), ('personal', 'JJ'), ('rights', 'NNS'), ('citizens', 'NNS'), ('ever', 'RB'), ('devised', 'VBD'), ('single', 'JJ'), ('scheme', 'NN'), ('could', 'MD'), ('produce', 'VB'), ('effect', 'NN'), ('arresting', 'VBG'), ('mutation', 'NN'), ('condition', 'NN'), ('thousands', 'NNS'), ('indigent', 'JJ'), ('fellow', 'JJ'), ('citizens', 'NNS'), ('industry', 'NN'), ('enterprise', 'NN'), ('raised', 'VBN'), ('possession', 'NN'), ('wealth', 'NN'), ('one', 'CD'), ('one', 'CD'), ('measure', 'NN'), ('better', 'RBR'), ('calculated', 'VBN'), ('another', 'DT'), ('produce', 'NN'), ('state', 'NN'), ('things', 'NNS'), ('much', 'RB'), ('deprecated', 'VBD'), ('true', 'JJ'), ('republicans', 'NNS'), ('rich', 'JJ'), ('daily', 'JJ'), ('adding', 'VBG'), ('hoards', 'NNS'), ('poor', 'JJ'), ('sinking', 'VBG'), ('deeper', 'JJ'), ('penury', 'NN'), ('exclusive', 'JJ'), ('metallic', 'JJ'), ('currency', 'NN'), ('process', 'NN'), ('character', 'NN'), ('country', 'NN'), ('generosity', 'NN'), ('nobleness', 'IN'), ('feeling', 'NN'), ('may', 'MD'), ('destroyed', 'VB'), ('great', 'JJ'), ('increase', 'NN'), ('neck', 'NN'), ('toleration', 'JJ'), ('usury', 'NN'), ('exclusive', 'JJ'), ('metallic', 'JJ'), ('currency', 'NN'), ('amongst', 'JJ'), ('duties', 'NNS'), ('delicate', 'VBP'), ('character', 'NN'), ('president', 'NN'), ('called', 'VBN'), ('upon', 'IN'), ('perform', 'NN'), ('supervision', 'NN'), ('government', 'NN'), ('territories', 'NNS'), ('united', 'VBD'), ('states', 'NNS'), ('destined', 'VBD'), ('become', 'JJ'), ('members', 'NNS'), ('great', 'JJ'), ('political', 'JJ'), ('family', 'NN'), ('compensated', 'VBN'), ('rapid', 'JJ'), ('progress', 'NN'), ('infancy', 'NN'), ('manhood', 'NN'), ('partial', 'JJ'), ('temporary', 'JJ'), ('deprivation', 'NN'), ('political', 'JJ'), ('rights', 'NNS'), ('district', 'NN'), ('american', 'JJ'), ('citizens', 'NNS'), ('found', 'VBD'), ('settled', 'JJ'), ('policy', 'NN'), ('deprived', 'VBD'), ('many', 'JJ'), ('important', 'JJ'), ('political', 'JJ'), ('privileges', 'NNS'), ('without', 'IN'), ('inspiring', 'VBG'), ('hope', 'NN'), ('future', 'JJ'), ('consolation', 'NN'), ('circumstances', 'NNS'), ('deprivation', 'NN'), ('devoted', 'VBN'), ('exterior', 'JJ'), ('guards', 'NNS'), ('camp', 'VBP'), ('sufferings', 'NNS'), ('secure', 'VBP'), ('tranquillity', 'NN'), ('safety', 'NN'), ('within', 'IN'), ('countrymen', 'NNS'), ('would', 'MD'), ('subject', 'VB'), ('greater', 'JJR'), ('sacrifices', 'NNS'), ('humiliations', 'NNS'), ('essentially', 'RB'), ('necessary', 'JJ'), ('security', 'NN'), ('object', 'VBP'), ('thus', 'RB'), ('separated', 'VBN'), ('fellow', 'JJ'), ('citizens', 'NNS'), ('rights', 'NNS'), ('alone', 'RB'), ('guaranteed', 'VBN'), ('application', 'NN'), ('great', 'JJ'), ('principles', 'NNS'), ('upon', 'IN'), ('constitutions', 'NNS'), ('founded', 'VBD'), ('told', 'VBN'), ('greatest', 'JJS'), ('british', 'JJ'), ('orators', 'NNS'), ('statesmen', 'VBP'), ('commencement', 'JJ'), ('war', 'NN'), ('revolution', 'NN'), ('stupid', 'JJ'), ('men', 'NNS'), ('england', 'VBP'), ('spoke', 'VBD'), ('american', 'JJ'), ('subjects', 'NNS'), ('.', '.'), (\"''\", \"''\")]\n",
      "[('indeed', 'RB'), ('citizens', 'NNS'), ('states', 'NNS'), ('dreamed', 'VBD'), ('subjects', 'NNS'), ('district', 'NN'), ('columbia', 'NN'), ('dreams', 'VBZ'), ('never', 'RB'), ('realized', 'VBN'), ('agency', 'NN'), ('mine', 'NN'), ('people', 'NNS'), ('district', 'NN'), ('columbia', 'JJ'), ('subjects', 'NNS'), ('people', 'NNS'), ('states', 'NNS'), ('free', 'JJ'), ('american', 'JJ'), ('citizens', 'NNS'), ('latter', 'JJ'), ('condition', 'NN'), ('constitution', 'NN'), ('formed', 'VBD'), ('words', 'NNS'), ('used', 'VBN'), ('instrument', 'NN'), ('could', 'MD'), ('intended', 'VB'), ('deprive', 'JJ'), ('character', 'NN'), ('anything', 'NN'), ('great', 'JJ'), ('principle', 'NN'), ('unalienable', 'JJ'), ('rights', 'NNS'), ('emphatically', 'RB'), ('insisted', 'VBN'), ('upon', 'IN'), ('declaration', 'NN'), ('independence', 'NN'), ('could', 'MD'), ('neither', 'RB'), ('make', 'VB'), ('united', 'JJ'), ('states', 'NNS'), ('accept', 'VBP'), ('surrender', 'NN'), ('liberties', 'NNS'), ('become', 'VBP'), ('subjects', 'NNS'), ('words', 'NNS'), ('slaves', 'NNS'), ('former', 'JJ'), ('fellow', 'JJ'), ('citizens', 'NNS'), ('true', 'JJ'), ('scarcely', 'RB'), ('denied', 'VBD'), ('anyone', 'NN'), ('correct', 'NN'), ('idea', 'NN'), ('rights', 'NNS'), ('american', 'JJ'), ('citizen', 'NN'), ('grant', 'NN'), ('congress', 'NN'), ('exclusive', 'JJ'), ('jurisdiction', 'NN'), ('district', 'NN'), ('columbia', 'NN'), ('interpreted', 'VBD'), ('far', 'RB'), ('respects', 'VBZ'), ('aggregate', 'JJ'), ('people', 'NNS'), ('united', 'JJ'), ('states', 'NNS'), ('meaning', 'VBG'), ('nothing', 'NN'), ('allow', 'JJ'), ('congress', 'NN'), ('controlling', 'VBG'), ('power', 'NN'), ('necessary', 'JJ'), ('afford', 'NN'), ('free', 'JJ'), ('safe', 'JJ'), ('exercise', 'NN'), ('functions', 'NNS'), ('assigned', 'VBD'), ('general', 'JJ'), ('government', 'NN'), ('constitution', 'NN'), ('respects', 'NNS'), ('legislation', 'NN'), ('congress', 'NN'), ('adapted', 'VBD'), ('peculiar', 'JJ'), ('position', 'NN'), ('wants', 'VBZ'), ('conformable', 'JJ'), ('deliberate', 'JJ'), ('opinions', 'NNS'), ('interests', 'NNS'), ('spoken', 'VBP'), ('necessity', 'NN'), ('keeping', 'VBG'), ('respective', 'JJ'), ('departments', 'NNS'), ('government', 'NN'), ('well', 'RB'), ('authorities', 'NNS'), ('country', 'NN'), ('within', 'IN'), ('appropriate', 'JJ'), ('orbits', 'NNS'), ('matter', 'NN'), ('difficulty', 'NN'), ('cases', 'NNS'), ('powers', 'NNS'), ('respectively', 'RB'), ('claim', 'VBP'), ('often', 'RB'), ('defined', 'VBN'), ('distinct', 'JJ'), ('lines', 'NNS'), ('mischievous', 'JJ'), ('however', 'RB'), ('tendencies', 'NNS'), ('collisions', 'NNS'), ('kind', 'NN'), ('may', 'MD'), ('arise', 'VB'), ('respective', 'JJ'), ('communities', 'NNS'), ('certain', 'JJ'), ('purposes', 'NNS'), ('compose', 'VBP'), ('one', 'CD'), ('nation', 'NN'), ('much', 'JJ'), ('nation', 'NN'), ('long', 'RB'), ('exist', 'RB'), ('without', 'IN'), ('careful', 'JJ'), ('culture', 'NN'), ('feelings', 'NNS'), ('confidence', 'NN'), ('affection', 'NN'), ('effective', 'JJ'), ('bonds', 'NNS'), ('union', 'NN'), ('free', 'RB'), ('confederated', 'VBD'), ('states', 'NNS'), ('strong', 'JJ'), ('tie', 'JJ'), ('interest', 'NN'), ('often', 'RB'), ('found', 'VBN'), ('ineffectual', 'JJ'), ('men', 'NNS'), ('blinded', 'VBD'), ('passions', 'NNS'), ('known', 'VBN'), ('adopt', 'JJ'), ('measures', 'NNS'), ('country', 'NN'), ('direct', 'JJ'), ('opposition', 'NN'), ('suggestions', 'NNS'), ('policy', 'NN'), ('alternative', 'VBP'), ('destroy', 'JJ'), ('keep', 'VB'), ('bad', 'JJ'), ('passion', 'NN'), ('creating', 'VBG'), ('fostering', 'VBG'), ('good', 'JJ'), ('one', 'CD'), ('seems', 'VBZ'), ('corner', 'NN'), ('stone', 'NN'), ('upon', 'IN'), ('american', 'JJ'), ('political', 'JJ'), ('architects', 'NNS'), ('reared', 'VBN'), ('fabric', 'JJ'), ('government', 'NN'), ('cement', 'NN'), ('bind', 'NN'), ('perpetuate', 'NN'), ('existence', 'NN'), ('affectionate', 'JJ'), ('attachment', 'JJ'), ('members', 'NNS'), ('insure', 'VBP'), ('continuance', 'NN'), ('feeling', 'NN'), ('produced', 'VBD'), ('first', 'JJ'), ('community', 'NN'), ('dangers', 'NNS'), ('sufferings', 'VBP'), ('interests', 'NNS'), ('advantages', 'NNS'), ('made', 'VBN'), ('accessible', 'JJ'), ('participation', 'NN'), ('good', 'JJ'), ('possessed', 'JJ'), ('member', 'NN'), ('extensive', 'JJ'), ('confederacy', 'NN'), ('except', 'IN'), ('domestic', 'JJ'), ('government', 'NN'), ('withheld', 'VBD'), ('citizen', 'JJ'), ('member', 'NN'), ('process', 'NN'), ('attended', 'VBD'), ('difficulty', 'NN'), ('delay', 'NN'), ('expense', 'NN'), ('removal', 'NN'), ('citizen', 'VBP'), ('one', 'CD'), ('might', 'MD'), ('become', 'VB'), ('citizen', 'JJ'), ('successively', 'RB'), ('whole', 'JJ'), ('lines', 'NNS'), ('separating', 'VBG'), ('powers', 'NNS'), ('exercised', 'VBD'), ('citizens', 'NNS'), ('one', 'CD'), ('state', 'NN'), ('another', 'DT'), ('seem', 'VBP'), ('distinctly', 'RB'), ('drawn', 'VBN'), ('leave', 'VBP'), ('room', 'NN'), ('misunderstanding', 'NN'), ('citizens', 'NNS'), ('state', 'NN'), ('unite', 'JJ'), ('persons', 'NNS'), ('privileges', 'NNS'), ('character', 'VBP'), ('confers', 'NNS'), ('may', 'MD'), ('claim', 'VB'), ('citizens', 'NNS'), ('united', 'JJ'), ('states', 'NNS'), ('case', 'NN'), ('persons', 'NNS'), ('time', 'NN'), ('act', 'JJ'), ('citizen', 'JJ'), ('two', 'CD'), ('separate', 'JJ'), ('states', 'NNS'), ('therefore', 'RB'), ('positively', 'RB'), ('precluded', 'JJ'), ('interference', 'NN'), ('reserved', 'VBD'), ('powers', 'NNS'), ('state', 'NN'), ('time', 'NN'), ('citizen', 'NN'), ('may', 'MD'), ('indeed', 'RB'), ('offer', 'VB'), ('citizens', 'NNS'), ('states', 'VBZ'), ('advice', 'JJ'), ('management', 'NN'), ('form', 'NN'), ('tendered', 'VBD'), ('left', 'JJ'), ('discretion', 'NN'), ('sense', 'NN'), ('propriety', 'NN'), ('may', 'MD'), ('observed', 'VB'), ('however', 'RB'), ('organized', 'VBN'), ('associations', 'NNS'), ('citizens', 'NNS'), ('requiring', 'VBG'), ('compliance', 'NN'), ('wishes', 'NNS'), ('much', 'RB'), ('resemble', 'JJ'), ('recommendations', 'NNS'), ('athens', 'VBZ'), ('allies', 'NNS'), ('supported', 'VBD'), ('armed', 'JJ'), ('powerful', 'JJ'), ('fleet', 'NN'), ('indeed', 'RB'), ('ambition', 'NN'), ('leading', 'VBG'), ('states', 'NNS'), ('greece', 'VBP'), ('control', 'VB'), ('domestic', 'JJ'), ('concerns', 'NNS'), ('others', 'NNS'), ('destruction', 'NN'), ('celebrated', 'VBD'), ('confederacy', 'NN'), ('subsequently', 'RB'), ('members', 'NNS'), ('mainly', 'RB'), ('attributed', 'VBD'), ('owing', 'VBG'), ('absence', 'NN'), ('spirit', 'NN'), ('helvetic', 'JJ'), ('confederacy', 'NN'), ('many', 'JJ'), ('years', 'NNS'), ('preserved', 'VBD'), ('never', 'RB'), ('seen', 'VBN'), ('institutions', 'NNS'), ('separate', 'JJ'), ('members', 'NNS'), ('confederacy', 'VBP'), ('elements', 'NNS'), ('discord', 'JJ'), ('principles', 'NNS'), ('forms', 'NNS'), ('government', 'NN'), ('religion', 'NN'), ('well', 'RB'), ('circumstances', 'NNS'), ('several', 'JJ'), ('cantons', 'NNS'), ('marked', 'VBD'), ('discrepancy', 'NN'), ('observable', 'JJ'), ('promise', 'NN'), ('anything', 'NN'), ('harmony', 'JJ'), ('intercourse', 'NN'), ('permanency', 'NN'), ('alliance', 'NN'), ('yet', 'RB'), ('ages', 'VBZ'), ('neither', 'CC'), ('interrupted', 'JJ'), ('content', 'NN'), ('positive', 'JJ'), ('benefits', 'NNS'), ('union', 'NN'), ('produced', 'VBD'), ('independence', 'NN'), ('safety', 'NN'), ('foreign', 'JJ'), ('aggression', 'NN'), ('secured', 'VBD'), ('sagacious', 'JJ'), ('people', 'NNS'), ('respected', 'VBD'), ('institutions', 'NNS'), ('however', 'RB'), ('repugnant', 'VBP'), ('principles', 'NNS'), ('prejudices', 'NNS'), ('confederacy', 'VBP'), ('fellow', 'JJ'), ('citizens', 'NNS'), ('preserved', 'VBD'), ('forbearance', 'NN'), ('citizens', 'NNS'), ('must', 'MD'), ('content', 'VB'), ('exercise', 'NN'), ('powers', 'NNS'), ('constitution', 'NN'), ('clothes', 'NNS'), ('attempt', 'VBP'), ('one', 'CD'), ('state', 'NN'), ('control', 'NN'), ('domestic', 'JJ'), ('institutions', 'NNS'), ('another', 'DT'), ('result', 'NN'), ('feelings', 'NNS'), ('distrust', 'VBP'), ('jealousy', 'JJ'), ('certain', 'JJ'), ('harbingers', 'NNS'), ('disunion', 'VBP'), ('violence', 'NN'), ('civil', 'JJ'), ('war', 'NN'), ('ultimate', 'JJ'), ('destruction', 'NN'), ('free', 'JJ'), ('institutions', 'NNS'), ('confederacy', 'VBP'), ('perfectly', 'RB'), ('illustrated', 'VBN'), ('terms', 'NNS'), ('principles', 'NNS'), ('governing', 'VBG'), ('common', 'JJ'), ('copartnership', 'NN'), ('fund', 'NN'), ('power', 'NN'), ('exercised', 'VBN'), ('direction', 'NN'), ('joint', 'NN'), ('councils', 'NNS'), ('allied', 'VBD'), ('members', 'NNS'), ('reserved', 'VBD'), ('individual', 'JJ'), ('members', 'NNS'), ('intangible', 'JJ'), ('common', 'JJ'), ('government', 'NN'), ('individual', 'JJ'), ('members', 'NNS'), ('composing', 'VBG'), ('attempt', 'JJ'), ('finds', 'NNS'), ('support', 'NN'), ('principles', 'NNS'), ('constitution', 'VBP'), ('constant', 'JJ'), ('earnest', 'NN'), ('endeavor', 'NN'), ('mutually', 'RB'), ('cultivate', 'JJ'), ('spirit', 'NN'), ('concord', 'NN'), ('harmony', 'NN'), ('among', 'IN'), ('various', 'JJ'), ('parts', 'NNS'), ('confederacy', 'NN'), ('experience', 'NN'), ('abundantly', 'RB'), ('taught', 'VBD'), ('us', 'PRP'), ('agitation', 'NN'), ('citizens', 'VBZ'), ('one', 'CD'), ('part', 'NN'), ('union', 'NN'), ('subject', 'NN'), ('confided', 'VBD'), ('general', 'JJ'), ('government', 'NN'), ('exclusively', 'RB'), ('guardianship', 'JJ'), ('local', 'JJ'), ('authorities', 'NNS'), ('productive', 'JJ'), ('consequences', 'NNS'), ('bitterness', 'JJ'), ('alienation', 'NN'), ('discord', 'NN'), ('injury', 'NN'), ('cause', 'NN'), ('intended', 'VBD'), ('advanced', 'JJ'), ('great', 'JJ'), ('interests', 'NNS'), ('appertain', 'VBP'), ('country', 'NN'), ('union', 'NN'), ('cordial', 'JJ'), ('confiding', 'VBG'), ('fraternal', 'JJ'), ('union', 'NN'), ('far', 'RB'), ('important', 'JJ'), ('since', 'IN'), ('true', 'JJ'), ('sure', 'JJ'), ('guaranty', 'NN'), ('others', 'NNS'), ('consequence', 'NN'), ('embarrassed', 'VBN'), ('state', 'NN'), ('business', 'NN'), ('currency', 'NN'), ('states', 'NNS'), ('may', 'MD'), ('meet', 'VB'), ('difficulty', 'NN'), ('financial', 'JJ'), ('concerns', 'NNS'), ('however', 'RB'), ('deeply', 'RB'), ('may', 'MD'), ('regret', 'VB'), ('anything', 'NN'), ('imprudent', 'JJ'), ('excessive', 'JJ'), ('engagements', 'NNS'), ('states', 'NNS'), ('entered', 'VBD'), ('purposes', 'NNS'), ('become', 'VBP'), ('us', 'PRP'), ('disparage', 'VB'), ('states', 'NNS'), ('governments', 'NNS'), ('discourage', 'VBP'), ('making', 'VBG'), ('proper', 'JJ'), ('efforts', 'NNS'), ('relief', 'NN'), ('contrary', 'JJ'), ('duty', 'NN'), ('encourage', 'NN'), ('extent', 'VBD'), ('constitutional', 'JJ'), ('authority', 'NN'), ('apply', 'VBP'), ('best', 'JJS'), ('means', 'NNS'), ('cheerfully', 'RB'), ('make', 'VBP'), ('necessary', 'JJ'), ('sacrifices', 'NNS'), ('submit', 'VBP'), ('necessary', 'JJ'), ('burdens', 'NNS'), ('fulfill', 'JJ'), ('engagements', 'NNS'), ('maintain', 'VBP'), ('credit', 'NN'), ('character', 'NN'), ('credit', 'NN'), ('several', 'JJ'), ('states', 'NNS'), ('form', 'VBP'), ('part', 'NN'), ('character', 'NN'), ('credit', 'NN'), ('whole', 'JJ'), ('country', 'NN'), ('resources', 'NNS'), ('country', 'NN'), ('abundant', 'JJ'), ('enterprise', 'NN'), ('activity', 'NN'), ('people', 'NNS'), ('proverbial', 'VBP'), ('may', 'MD'), ('well', 'RB'), ('hope', 'VB'), ('wise', 'NN'), ('legislation', 'NN'), ('prudent', 'JJ'), ('administration', 'NN'), ('respective', 'JJ'), ('governments', 'NNS'), ('acting', 'VBG'), ('within', 'IN'), ('sphere', 'RB'), ('restore', 'VB'), ('former', 'JJ'), ('prosperity', 'NN'), ('unpleasant', 'JJ'), ('even', 'RB'), ('dangerous', 'JJ'), ('collisions', 'NNS'), ('may', 'MD'), ('sometimes', 'RB'), ('constituted', 'VB'), ('authorities', 'NNS'), ('citizens', 'NNS'), ('country', 'NN'), ('relation', 'NN'), ('lines', 'NNS'), ('separate', 'JJ'), ('respective', 'JJ'), ('jurisdictions', 'NNS'), ('results', 'NNS'), ('vital', 'JJ'), ('injury', 'NN'), ('institutions', 'NNS'), ('ardent', 'VBP'), ('patriotism', 'NN'), ('devoted', 'VBN'), ('attachment', 'JJ'), ('liberty', 'NN'), ('spirit', 'NN'), ('moderation', 'NN'), ('forbearance', 'NN'), ('countrymen', 'NNS'), ('distinguished', 'VBD'), ('continue', 'VBP'), ('cherished', 'VBN'), ('continues', 'VBZ'), ('ruling', 'VBG'), ('passion', 'NN'), ('souls', 'NNS'), ('weaker', 'VBP'), ('feeling', 'VBG'), ('mistaken', 'VBN'), ('enthusiast', 'RB'), ('corrected', 'JJ'), ('utopian', 'JJ'), ('dreams', 'NNS'), ('scheming', 'VBG'), ('politician', 'NN'), ('dissipated', 'VBN'), ('complicated', 'VBD'), ('intrigues', 'NNS'), ('demagogue', 'NN'), ('rendered', 'VBD'), ('harmless', 'JJ'), ('spirit', 'NN'), ('liberty', 'NN'), ('sovereign', 'JJ'), ('balm', 'NN'), ('every', 'DT'), ('injury', 'NN'), ('institutions', 'NNS'), ('may', 'MD'), ('receive', 'VB'), ('contrary', 'JJ'), ('care', 'NN'), ('used', 'VBN'), ('construction', 'NN'), ('government', 'NN'), ('division', 'NN'), ('powers', 'NNS'), ('distribution', 'NN'), ('checks', 'NNS'), ('several', 'JJ'), ('departments', 'NNS'), ('prove', 'VBP'), ('effectual', 'JJ'), ('keep', 'VB'), ('us', 'PRP'), ('free', 'JJ'), ('people', 'NNS'), ('spirit', 'VBP'), ('suffered', 'VBN'), ('decay', 'JJ'), ('decay', 'NN'), ('without', 'IN'), ('constant', 'JJ'), ('nurture', 'NN'), ('neglect', 'JJ'), ('duty', 'NN'), ('best', 'JJS'), ('historians', 'NNS'), ('agree', 'VBP'), ('attributing', 'VBG'), ('ruin', 'NN'), ('republics', 'NNS'), ('whose', 'WP$'), ('existence', 'NN'), ('fall', 'NN'), ('writings', 'NNS'), ('made', 'VBD'), ('us', 'PRP'), ('acquainted', 'JJ'), ('causes', 'NNS'), ('ever', 'RB'), ('produce', 'VBP'), ('effects', 'NNS'), ('long', 'RB'), ('love', 'VBP'), ('power', 'NN'), ('dominant', 'JJ'), ('passion', 'NN'), ('human', 'JJ'), ('bosom', 'NN'), ('long', 'JJ'), ('understandings', 'NNS'), ('men', 'NNS'), ('warped', 'VBD'), ('affections', 'NNS'), ('changed', 'VBN'), ('operations', 'NNS'), ('upon', 'IN'), ('passions', 'NNS'), ('prejudices', 'NNS'), ('long', 'JJ'), ('liberties', 'NNS'), ('people', 'NNS'), ('depend', 'VBP'), ('constant', 'JJ'), ('attention', 'NN'), ('preservation', 'NN'), ('danger', 'NN'), ('well', 'RB'), ('established', 'VBN'), ('free', 'JJ'), ('governments', 'NNS'), ('arises', 'VBZ'), ('unwillingness', 'JJ'), ('people', 'NNS'), ('believe', 'VBP'), ('existence', 'NN'), ('influence', 'NN'), ('designing', 'VBG'), ('men', 'NNS'), ('diverting', 'VBG'), ('attention', 'NN'), ('quarter', 'NN'), ('whence', 'NN'), ('approaches', 'NNS'), ('source', 'NN'), ('never', 'RB'), ('come', 'VBN'), ('old', 'JJ'), ('trick', 'NN'), ('would', 'MD'), ('usurp', 'VB'), ('government', 'NN'), ('country', 'NN'), ('name', 'NN'), ('democracy', 'NN'), ('speak', 'JJ'), ('warning', 'NN'), ('people', 'NNS'), ('influence', 'VBP'), ('wealth', 'NN'), ('danger', 'NN'), ('aristocracy', 'NN'), ('history', 'NN'), ('ancient', 'NN'), ('modern', 'JJ'), ('full', 'JJ'), ('examples', 'NNS'), ('caesar', 'VBP'), ('became', 'VBD'), ('master', 'JJ'), ('roman', 'NN'), ('people', 'NNS'), ('senate', 'VBP'), ('pretense', 'NN'), ('supporting', 'VBG'), ('democratic', 'JJ'), ('claims', 'NNS'), ('former', 'JJ'), ('aristocracy', 'NN'), ('latter', 'NN'), ('cromwell', 'VBP'), ('character', 'NN'), ('protector', 'NN'), ('liberties', 'VBZ'), ('people', 'NNS'), ('became', 'VBD'), ('dictator', 'JJ'), ('england', 'NN'), ('bolivar', 'NN'), ('possessed', 'VBD'), ('unlimited', 'JJ'), ('power', 'NN'), ('title', 'NN'), ('country', 'NN'), ('liberator', 'NN'), ('contrary', 'JJ'), ('instance', 'NN'), ('record', 'NN'), ('extensive', 'NN'), ('well', 'RB'), ('established', 'VBN'), ('republic', 'NN'), ('changed', 'VBD'), ('aristocracy', 'NN'), ('tendencies', 'NNS'), ('governments', 'NNS'), ('decline', 'VBP'), ('monarchy', 'JJ'), ('antagonist', 'JJ'), ('principle', 'NN'), ('liberty', 'NN'), ('spirit', 'NN'), ('faction', 'NN'), ('spirit', 'NN'), ('assumes', 'VBZ'), ('character', 'JJ'), ('times', 'NNS'), ('great', 'JJ'), ('excitement', 'JJ'), ('imposes', 'NNS'), ('upon', 'IN'), ('people', 'NNS'), ('genuine', 'JJ'), ('spirit', 'NN'), ('freedom', 'NN'), ('like', 'IN'), ('false', 'JJ'), ('christs', 'NNS'), ('whose', 'WP$'), ('coming', 'VBG'), ('foretold', 'RB'), ('savior', 'JJ'), ('seeks', 'NNS'), ('possible', 'JJ'), ('would', 'MD'), ('impose', 'VB'), ('upon', 'IN'), ('true', 'JJ'), ('faithful', 'JJ'), ('disciples', 'NNS'), ('liberty', 'VBP'), ('periods', 'NNS'), ('like', 'IN'), ('behooves', 'NNS'), ('people', 'NNS'), ('watchful', 'RB'), ('intrusted', 'JJ'), ('power', 'NN'), ('although', 'IN'), ('times', 'NNS'), ('much', 'JJ'), ('difficulty', 'NN'), ('distinguishing', 'VBG'), ('false', 'JJ'), ('true', 'JJ'), ('spirit', 'NN'), ('calm', 'NN'), ('dispassionate', 'NN'), ('investigation', 'NN'), ('detect', 'NN'), ('counterfeit', 'NN'), ('well', 'RB'), ('character', 'JJ'), ('operations', 'NNS'), ('results', 'NNS'), ('produced', 'VBD'), ('true', 'JJ'), ('spirit', 'NN'), ('liberty', 'NN'), ('although', 'IN'), ('devoted', 'VBN'), ('persevering', 'VBG'), ('bold', 'JJ'), ('uncompromising', 'JJ'), ('principle', 'NN'), ('secured', 'VBN'), ('mild', 'JJ'), ('tolerant', 'JJ'), ('scrupulous', 'JJ'), ('means', 'NNS'), ('employs', 'VBZ'), ('whilst', 'JJ'), ('spirit', 'NN'), ('party', 'NN'), ('assuming', 'VBG'), ('liberty', 'JJ'), ('harsh', 'JJ'), ('vindictive', 'NN'), ('intolerant', 'NN'), ('totally', 'RB'), ('reckless', 'JJ'), ('character', 'NN'), ('allies', 'NNS'), ('brings', 'VBZ'), ('aid', 'NN'), ('cause', 'NN'), ('genuine', 'JJ'), ('spirit', 'NN'), ('liberty', 'NN'), ('animates', 'VBZ'), ('body', 'JJ'), ('people', 'NNS'), ('thorough', 'IN'), ('examination', 'NN'), ('affairs', 'NNS'), ('leads', 'VBZ'), ('excision', 'NN'), ('every', 'DT'), ('excrescence', 'NN'), ('may', 'MD'), ('fastened', 'VB'), ('upon', 'IN'), ('departments', 'NNS'), ('government', 'NN'), ('restores', 'VBZ'), ('system', 'NN'), ('pristine', 'JJ'), ('health', 'NN'), ('beauty', 'NN'), ('reign', 'NN'), ('intolerant', 'JJ'), ('spirit', 'NN'), ('party', 'NN'), ('amongst', 'JJ'), ('free', 'JJ'), ('people', 'NNS'), ('seldom', 'RB'), ('fails', 'VBZ'), ('result', 'NN'), ('dangerous', 'JJ'), ('accession', 'NN'), ('executive', 'NN'), ('power', 'NN'), ('introduced', 'VBD'), ('established', 'VBN'), ('amidst', 'RB'), ('unusual', 'JJ'), ('professions', 'NNS'), ('devotion', 'NN'), ('democracy', 'NN'), ('foregoing', 'VBG'), ('remarks', 'NNS'), ('relate', 'VBP'), ('almost', 'RB'), ('exclusively', 'RB'), ('matters', 'NNS'), ('connected', 'VBD'), ('domestic', 'JJ'), ('concerns', 'NNS'), ('may', 'MD'), ('proper', 'VB'), ('however', 'RB'), ('give', 'JJ'), ('indications', 'NNS'), ('fellow', 'VBP'), ('citizens', 'NNS'), ('proposed', 'VBN'), ('course', 'NN'), ('conduct', 'NN'), ('management', 'NN'), ('foreign', 'JJ'), ('relations', 'NNS'), ('assure', 'VBP'), ('therefore', 'RB'), ('intention', 'NN'), ('use', 'NN'), ('every', 'DT'), ('means', 'VBZ'), ('power', 'NN'), ('preserve', 'NN'), ('friendly', 'JJ'), ('intercourse', 'JJ'), ('happily', 'RB'), ('subsists', 'VBZ'), ('every', 'DT'), ('foreign', 'JJ'), ('nation', 'NN'), ('although', 'IN'), ('course', 'NN'), ('well', 'RB'), ('informed', 'JJ'), ('state', 'NN'), ('pending', 'JJ'), ('negotiations', 'NNS'), ('see', 'VBP'), ('personal', 'JJ'), ('characters', 'NNS'), ('sovereigns', 'VBP'), ('well', 'RB'), ('mutual', 'JJ'), ('interests', 'NNS'), ('governments', 'NNS'), ('relations', 'NNS'), ('intimate', 'VBP'), ('pleasing', 'VBG'), ('guaranty', 'NN'), ('harmony', 'NN'), ('important', 'JJ'), ('interests', 'NNS'), ('subjects', 'NNS'), ('well', 'RB'), ('citizens', 'NNS'), ('interrupted', 'VBD'), ('advancement', 'JJ'), ('claim', 'NN'), ('pretension', 'NN'), ('upon', 'IN'), ('part', 'NN'), ('honor', 'NN'), ('would', 'MD'), ('permit', 'VB'), ('us', 'PRP'), ('yield', 'VB'), ('long', 'JJ'), ('defender', 'NN'), ('country', 'NN'), ('rights', 'NNS'), ('field', 'NN'), ('trust', 'NN'), ('fellow', 'JJ'), ('citizens', 'NNS'), ('see', 'VBP'), ('earnest', 'JJ'), ('desire', 'NN'), ('preserve', 'VB'), ('peace', 'NN'), ('foreign', 'JJ'), ('powers', 'NNS'), ('indication', 'NN'), ('rights', 'NNS'), ('ever', 'RB'), ('sacrificed', 'VBD'), ('honor', 'JJ'), ('nation', 'NN'), ('tarnished', 'VBN'), ('admission', 'NN'), ('part', 'NN'), ('chief', 'NN'), ('magistrate', 'NN'), ('unworthy', 'JJ'), ('former', 'JJ'), ('glory', 'NN'), ('intercourse', 'JJ'), ('aboriginal', 'JJ'), ('neighbors', 'NNS'), ('liberality', 'NN'), ('justice', 'NN'), ('marked', 'VBD'), ('course', 'NN'), ('prescribed', 'VBN'), ('two', 'CD'), ('illustrious', 'JJ'), ('predecessors', 'NNS'), ('acting', 'VBG'), ('direction', 'NN'), ('discharge', 'NN'), ('duties', 'NNS'), ('superintendent', 'VBP'), ('commissioner', 'NN'), ('shall', 'MD'), ('strictly', 'RB'), ('observed', 'VBN'), ('conceive', 'JJ'), ('sublime', 'JJ'), ('spectacle', 'NN'), ('none', 'NN'), ('likely', 'JJ'), ('propitiate', 'NN'), ('impartial', 'JJ'), ('common', 'JJ'), ('creator', 'NN'), ('rigid', 'JJ'), ('adherence', 'NN'), ('principles', 'NNS'), ('justice', 'VBP'), ('part', 'NN'), ('powerful', 'JJ'), ('nation', 'NN'), ('transactions', 'NNS'), ('weaker', 'VBP'), ('uncivilized', 'JJ'), ('people', 'NNS'), ('circumstances', 'NNS'), ('placed', 'VBD'), ('disposal', 'NN'), ('concluding', 'VBG'), ('fellow', 'JJ'), ('citizens', 'NNS'), ('must', 'MD'), ('say', 'VB'), ('something', 'NN'), ('subject', 'JJ'), ('parties', 'NNS'), ('time', 'NN'), ('existing', 'VBG'), ('country', 'NN'), ('appears', 'VBZ'), ('perfectly', 'RB'), ('clear', 'JJ'), ('interest', 'NN'), ('country', 'NN'), ('requires', 'VBZ'), ('violence', 'JJ'), ('spirit', 'NN'), ('parties', 'NNS'), ('time', 'NN'), ('governed', 'VBN'), ('must', 'MD'), ('greatly', 'RB'), ('mitigated', 'VBN'), ('entirely', 'RB'), ('extinguished', 'JJ'), ('consequences', 'NNS'), ('ensue', 'VBP'), ('appalling', 'VBG'), ('thought', 'NN'), ('parties', 'NNS'), ('republic', 'VBP'), ('necessary', 'JJ'), ('secure', 'NN'), ('degree', 'NN'), ('vigilance', 'NN'), ('sufficient', 'JJ'), ('keep', 'VB'), ('public', 'JJ'), ('functionaries', 'NNS'), ('within', 'IN'), ('bounds', 'NNS'), ('law', 'NN'), ('duty', 'NN'), ('point', 'NN'), ('usefulness', 'JJ'), ('ends', 'VBZ'), ('beyond', 'IN'), ('become', 'JJ'), ('destructive', 'JJ'), ('public', 'JJ'), ('virtue', 'NN'), ('parent', 'NN'), ('spirit', 'NN'), ('antagonist', 'NN'), ('liberty', 'NN'), ('eventually', 'RB'), ('inevitable', 'JJ'), ('conqueror', 'NN'), ('examples', 'VBZ'), ('republics', 'NNS'), ('love', 'VBP'), ('country', 'NN'), ('liberty', 'VB'), ('one', 'CD'), ('time', 'NN'), ('dominant', 'JJ'), ('passions', 'NNS'), ('whole', 'JJ'), ('mass', 'NN'), ('citizens', 'NNS'), ('yet', 'RB'), ('continuance', 'VBP'), ('name', 'NN'), ('forms', 'NNS'), ('free', 'JJ'), ('government', 'NN'), ('vestige', 'NN'), ('qualities', 'NNS'), ('remaining', 'VBG'), ('bosoms', 'NNS'), ('one', 'CD'), ('citizens', 'NNS'), ('beautiful', 'JJ'), ('remark', 'NN'), ('distinguished', 'VBD'), ('english', 'JJ'), ('writer', 'NN'), ('roman', 'NN'), ('senate', 'NN'), ('octavius', 'NN'), ('party', 'NN'), ('anthony', 'NN'), ('party', 'NN'), ('commonwealth', 'NN'), ('none', 'NN'), ('.', '.'), (\"''\", \"''\")]\n"
     ]
    },
    {
     "name": "stdout",
     "output_type": "stream",
     "text": [
      "[('yet', 'RB'), ('senate', 'JJ'), ('continued', 'VBN'), ('meet', 'JJ'), ('temple', 'JJ'), ('liberty', 'NN'), ('talk', 'NN'), ('sacredness', 'NN'), ('beauty', 'NN'), ('commonwealth', 'NN'), ('gaze', 'NN'), ('statues', 'NNS'), ('elder', 'VBP'), ('brutus', 'NN'), ('curtii', 'NN'), ('decii', 'NN'), ('people', 'NNS'), ('assembled', 'VBD'), ('forum', 'JJ'), ('days', 'NNS'), ('camillus', 'VBP'), ('scipios', 'NNS'), ('cast', 'VBD'), ('free', 'JJ'), ('votes', 'NNS'), ('annual', 'JJ'), ('magistrates', 'NNS'), ('pass', 'VBP'), ('upon', 'IN'), ('acts', 'NNS'), ('senate', 'VBP'), ('receive', 'JJ'), ('hands', 'NNS'), ('leaders', 'NNS'), ('respective', 'JJ'), ('parties', 'NNS'), ('share', 'NN'), ('spoils', 'VBZ'), ('shout', 'IN'), ('one', 'CD'), ('collected', 'VBD'), ('gaul', 'NN'), ('egypt', 'NN'), ('lesser', 'NN'), ('asia', 'NN'), ('would', 'MD'), ('furnish', 'VB'), ('larger', 'JJR'), ('dividend', 'NN'), ('spirit', 'NN'), ('liberty', 'NN'), ('fled', 'VBD'), ('avoiding', 'VBG'), ('abodes', 'NNS'), ('civilized', 'VBN'), ('man', 'NN'), ('sought', 'VBN'), ('protection', 'NN'), ('wilds', 'NNS'), ('scythia', 'VBP'), ('scandinavia', 'JJ'), ('operation', 'NN'), ('causes', 'NNS'), ('influences', 'NNS'), ('fly', 'VBP'), ('capitol', 'NN'), ('forums', 'NNS'), ('calamity', 'NN'), ('awful', 'JJ'), ('country', 'NN'), ('world', 'NN'), ('must', 'MD'), ('deprecated', 'VB'), ('every', 'DT'), ('patriot', 'NN'), ('every', 'DT'), ('tendency', 'NN'), ('state', 'NN'), ('things', 'NNS'), ('likely', 'JJ'), ('produce', 'VBP'), ('immediately', 'RB'), ('checked', 'VBN'), ('tendency', 'NN'), ('existed', 'VBN'), ('exist', 'VBP'), ('always', 'RB'), ('friend', 'VBP'), ('countrymen', 'NNS'), ('never', 'RB'), ('flatterer', 'VBP'), ('becomes', 'NNS'), ('duty', 'NNS'), ('say', 'VBP'), ('high', 'JJ'), ('place', 'NN'), ('partiality', 'NN'), ('exalted', 'VBN'), ('exists', 'NNS'), ('land', 'VBP'), ('spirit', 'RB'), ('hostile', 'JJ'), ('best', 'JJS'), ('interests', 'NNS'), ('hostile', 'JJ'), ('liberty', 'NN'), ('spirit', 'NN'), ('contracted', 'VBD'), ('views', 'NNS'), ('selfish', 'JJ'), ('objects', 'NNS'), ('looks', 'VBZ'), ('aggrandizement', 'JJ'), ('even', 'RB'), ('destruction', 'NN'), ('interests', 'NNS'), ('whole', 'VBP'), ('entire', 'JJ'), ('remedy', 'NN'), ('people', 'NNS'), ('something', 'NN'), ('however', 'RB'), ('may', 'MD'), ('effected', 'VB'), ('means', 'NNS'), ('placed', 'VBN'), ('hands', 'NNS'), ('union', 'NN'), ('want', 'VBP'), ('party', 'NN'), ('sake', 'NN'), ('party', 'NN'), ('union', 'NN'), ('whole', 'JJ'), ('country', 'NN'), ('sake', 'VB'), ('whole', 'JJ'), ('country', 'NN'), ('defense', 'NN'), ('interests', 'NNS'), ('honor', 'VBP'), ('foreign', 'JJ'), ('aggression', 'NN'), ('defense', 'NN'), ('principles', 'NNS'), ('ancestors', 'NNS'), ('gloriously', 'RB'), ('contended', 'VBD'), ('far', 'RB'), ('depends', 'VBZ'), ('upon', 'IN'), ('shall', 'MD'), ('accomplished', 'VB'), ('influence', 'NN'), ('possess', 'NN'), ('shall', 'MD'), ('exerted', 'VB'), ('prevent', 'NN'), ('formation', 'NN'), ('least', 'RBS'), ('executive', 'JJ'), ('party', 'NN'), ('halls', 'NNS'), ('legislative', 'JJ'), ('body', 'NN'), ('wish', 'JJ'), ('support', 'NN'), ('member', 'NN'), ('body', 'NN'), ('measure', 'NN'), ('mine', 'JJ'), ('satisfy', 'NN'), ('judgment', 'NN'), ('sense', 'NN'), ('duty', 'NN'), ('holds', 'VBZ'), ('appointment', 'JJ'), ('confidence', 'NN'), ('advance', 'NN'), ('people', 'NNS'), ('asked', 'VBD'), ('mr', 'JJ'), ('jefferson', 'NN'), ('give', 'VB'), ('firmness', 'JJ'), ('effect', 'NN'), ('legal', 'JJ'), ('administration', 'NN'), ('affairs', 'NNS'), ('.', '.'), (\"''\", \"''\")]\n",
      "[('deem', 'JJ'), ('present', 'JJ'), ('occasion', 'NN'), ('sufficiently', 'RB'), ('important', 'JJ'), ('solemn', 'NN'), ('justify', 'NN'), ('expressing', 'VBG'), ('fellow', 'JJ'), ('citizens', 'NNS'), ('profound', 'JJ'), ('reverence', 'NN'), ('christian', 'JJ'), ('religion', 'NN'), ('thorough', 'IN'), ('conviction', 'NN'), ('sound', 'NN'), ('morals', 'NNS'), ('religious', 'JJ'), ('liberty', 'JJ'), ('sense', 'NN'), ('religious', 'JJ'), ('responsibility', 'NN'), ('essentially', 'RB'), ('connected', 'VBN'), ('true', 'JJ'), ('lasting', 'JJ'), ('happiness', 'NN'), ('good', 'NN'), ('blessed', 'VBD'), ('us', 'PRP'), ('gifts', 'VBP'), ('civil', 'JJ'), ('religious', 'JJ'), ('freedom', 'NN'), ('watched', 'VBD'), ('prospered', 'JJ'), ('labors', 'NNS'), ('fathers', 'NNS'), ('hitherto', 'VBP'), ('preserved', 'VBD'), ('us', 'PRP'), ('institutions', 'NNS'), ('far', 'RB'), ('exceeding', 'VBG'), ('excellence', 'NN'), ('people', 'NNS'), ('let', 'VBP'), ('us', 'PRP'), ('unite', 'VB'), ('fervently', 'RB'), ('commending', 'VBG'), ('every', 'DT'), ('interest', 'NN'), ('beloved', 'VBN'), ('country', 'NN'), ('future', 'JJ'), ('time', 'NN'), ('fellow', 'JJ'), ('citizens', 'NNS'), ('fully', 'RB'), ('invested', 'VBN'), ('high', 'JJ'), ('office', 'NN'), ('partiality', 'NN'), ('countrymen', 'NNS'), ('called', 'VBD'), ('take', 'VB'), ('affectionate', 'NN'), ('leave', 'VBP'), ('bear', 'VBN'), ('homes', 'NNS'), ('remembrance', 'VB'), ('pledge', 'NN'), ('day', 'NN'), ('given', 'VBN'), ('discharge', 'VBP'), ('high', 'JJ'), ('duties', 'NNS'), ('exalted', 'VBN'), ('station', 'NN'), ('according', 'VBG'), ('best', 'JJS'), ('ability', 'NN'), ('shall', 'MD'), ('enter', 'VB'), ('upon', 'JJ'), ('performance', 'NN'), ('entire', 'JJ'), ('confidence', 'NN'), ('support', 'NN'), ('generous', 'JJ'), ('people', 'NNS')]\n"
     ]
    }
   ],
   "source": [
    "texts = []\n",
    "texts.append(text)\n",
    "for text in texts:\n",
    "    sentences = nltk.sent_tokenize(text)\n",
    "    for sentence in sentences:\n",
    "        words = nltk.word_tokenize(sentence)\n",
    "        tagged = nltk.pos_tag(words)\n",
    "        print(tagged)"
   ]
  },
  {
   "cell_type": "markdown",
   "metadata": {},
   "source": [
    "# Stemming in NLTK\n",
    "\n",
    "LancasterStemmer and PorterStemmer"
   ]
  },
  {
   "cell_type": "code",
   "execution_count": 63,
   "metadata": {},
   "outputs": [
    {
     "name": "stdout",
     "output_type": "stream",
     "text": [
      "Original Word: called\n",
      "Stemmed Word: call \n",
      "\n",
      "Original Word: retirement\n",
      "Stemmed Word: retir \n",
      "\n",
      "Original Word: supposed\n",
      "Stemmed Word: suppos \n",
      "\n",
      "Original Word: continue\n",
      "Stemmed Word: continu \n",
      "\n",
      "Original Word: residue\n",
      "Stemmed Word: residu \n",
      "\n",
      "Original Word: life\n",
      "Stemmed Word: life \n",
      "\n",
      "Original Word: fill\n",
      "Stemmed Word: fill \n",
      "\n",
      "Original Word: chief\n",
      "Stemmed Word: chief \n",
      "\n",
      "Original Word: executive\n",
      "Stemmed Word: execut \n",
      "\n",
      "Original Word: office\n",
      "Stemmed Word: offic \n",
      "\n",
      "Original Word: great\n",
      "Stemmed Word: great \n",
      "\n",
      "Original Word: free\n",
      "Stemmed Word: free \n",
      "\n",
      "Original Word: nation\n",
      "Stemmed Word: nation \n",
      "\n",
      "Original Word: appear\n",
      "Stemmed Word: appear \n",
      "\n",
      "Original Word: fellow\n",
      "Stemmed Word: fellow \n",
      "\n",
      "Original Word: citizens\n",
      "Stemmed Word: citizen \n",
      "\n",
      "Original Word: take\n",
      "Stemmed Word: take \n",
      "\n",
      "Original Word: oaths\n",
      "Stemmed Word: oath \n",
      "\n",
      "Original Word: constitution\n",
      "Stemmed Word: constitut \n",
      "\n",
      "Original Word: prescribes\n",
      "Stemmed Word: prescrib \n",
      "\n",
      "Original Word: necessary\n",
      "Stemmed Word: necessari \n",
      "\n",
      "Original Word: qualification\n",
      "Stemmed Word: qualif \n",
      "\n",
      "Original Word: performance\n",
      "Stemmed Word: perform \n",
      "\n",
      "Original Word: duties\n",
      "Stemmed Word: duti \n",
      "\n",
      "Original Word: obedience\n",
      "Stemmed Word: obedi \n",
      "\n",
      "Original Word: custom\n",
      "Stemmed Word: custom \n",
      "\n",
      "Original Word: coeval\n",
      "Stemmed Word: coeval \n",
      "\n",
      "Original Word: government\n",
      "Stemmed Word: govern \n",
      "\n",
      "Original Word: believe\n",
      "Stemmed Word: believ \n",
      "\n",
      "Original Word: expectations\n",
      "Stemmed Word: expect \n",
      "\n"
     ]
    }
   ],
   "source": [
    "########## PorterStemmer ###########\n",
    "\n",
    "stems = speech[:30]\n",
    "for i in stems:\n",
    "    print(\"Original Word:\",i)\n",
    "    stemmed = stemmerporter.stem(i)\n",
    "    print(\"Stemmed Word:\",stemmed,\"\\n\")"
   ]
  },
  {
   "cell_type": "code",
   "execution_count": 62,
   "metadata": {},
   "outputs": [
    {
     "name": "stdout",
     "output_type": "stream",
     "text": [
      "Original Word: called\n",
      "Stemmed Word: cal \n",
      "\n",
      "Original Word: retirement\n",
      "Stemmed Word: retir \n",
      "\n",
      "Original Word: supposed\n",
      "Stemmed Word: suppos \n",
      "\n",
      "Original Word: continue\n",
      "Stemmed Word: continu \n",
      "\n",
      "Original Word: residue\n",
      "Stemmed Word: residu \n",
      "\n",
      "Original Word: life\n",
      "Stemmed Word: lif \n",
      "\n",
      "Original Word: fill\n",
      "Stemmed Word: fil \n",
      "\n",
      "Original Word: chief\n",
      "Stemmed Word: chief \n",
      "\n",
      "Original Word: executive\n",
      "Stemmed Word: execut \n",
      "\n",
      "Original Word: office\n",
      "Stemmed Word: off \n",
      "\n",
      "Original Word: great\n",
      "Stemmed Word: gre \n",
      "\n",
      "Original Word: free\n",
      "Stemmed Word: fre \n",
      "\n",
      "Original Word: nation\n",
      "Stemmed Word: nat \n",
      "\n",
      "Original Word: appear\n",
      "Stemmed Word: appear \n",
      "\n",
      "Original Word: fellow\n",
      "Stemmed Word: fellow \n",
      "\n",
      "Original Word: citizens\n",
      "Stemmed Word: cit \n",
      "\n",
      "Original Word: take\n",
      "Stemmed Word: tak \n",
      "\n",
      "Original Word: oaths\n",
      "Stemmed Word: oath \n",
      "\n",
      "Original Word: constitution\n",
      "Stemmed Word: constitut \n",
      "\n",
      "Original Word: prescribes\n",
      "Stemmed Word: prescrib \n",
      "\n",
      "Original Word: necessary\n",
      "Stemmed Word: necess \n",
      "\n",
      "Original Word: qualification\n",
      "Stemmed Word: qual \n",
      "\n",
      "Original Word: performance\n",
      "Stemmed Word: perform \n",
      "\n",
      "Original Word: duties\n",
      "Stemmed Word: duty \n",
      "\n",
      "Original Word: obedience\n",
      "Stemmed Word: obedy \n",
      "\n",
      "Original Word: custom\n",
      "Stemmed Word: custom \n",
      "\n",
      "Original Word: coeval\n",
      "Stemmed Word: coev \n",
      "\n",
      "Original Word: government\n",
      "Stemmed Word: govern \n",
      "\n",
      "Original Word: believe\n",
      "Stemmed Word: believ \n",
      "\n",
      "Original Word: expectations\n",
      "Stemmed Word: expect \n",
      "\n"
     ]
    }
   ],
   "source": [
    "########## LancasterStemmer ###########\n",
    "\n",
    "\n",
    "stems = speech[:30]\n",
    "for i in stems:\n",
    "    print(\"Original Word:\",i)\n",
    "    stemmed = stemmerlancaster.stem(i)\n",
    "    print(\"Stemmed Word:\",stemmed,\"\\n\")"
   ]
  },
  {
   "cell_type": "code",
   "execution_count": null,
   "metadata": {
    "collapsed": true
   },
   "outputs": [],
   "source": []
  }
 ],
 "metadata": {
  "kernelspec": {
   "display_name": "Python 3",
   "language": "python",
   "name": "python3"
  },
  "language_info": {
   "codemirror_mode": {
    "name": "ipython",
    "version": 3
   },
   "file_extension": ".py",
   "mimetype": "text/x-python",
   "name": "python",
   "nbconvert_exporter": "python",
   "pygments_lexer": "ipython3",
   "version": "3.6.3"
  }
 },
 "nbformat": 4,
 "nbformat_minor": 2
}
