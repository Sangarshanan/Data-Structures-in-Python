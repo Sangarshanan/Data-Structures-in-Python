{
 "cells": [
  {
   "cell_type": "markdown",
   "metadata": {},
   "source": [
    "# NLTK Tokenizer, Wordnet, Tokenize"
   ]
  },
  {
   "cell_type": "code",
   "execution_count": 1,
   "metadata": {},
   "outputs": [
    {
     "name": "stdout",
     "output_type": "stream",
     "text": [
      "['My dog got bored and chased our cat.', 'The cat jumped into my arms']\n"
     ]
    }
   ],
   "source": [
    "import nltk\n",
    "text = \"My dog got bored and chased our cat. The cat jumped into my arms\"\n",
    "sent = nltk.sent_tokenize(text)\n",
    "print (sent)"
   ]
  },
  {
   "cell_type": "code",
   "execution_count": 2,
   "metadata": {},
   "outputs": [
    {
     "name": "stdout",
     "output_type": "stream",
     "text": [
      "['My', 'dog', 'got', 'bored', 'and', 'chased', 'our', 'cat', '.', 'The', 'cat', 'jumped', 'into', 'my', 'arms']\n"
     ]
    }
   ],
   "source": [
    "word = nltk.word_tokenize(text)\n",
    "print (word)"
   ]
  },
  {
   "cell_type": "code",
   "execution_count": 3,
   "metadata": {},
   "outputs": [
    {
     "data": {
      "text/plain": [
       "['Congratulations',\n",
       " 'to',\n",
       " 'new',\n",
       " 'Australian',\n",
       " 'Prime',\n",
       " 'Minister',\n",
       " 'Scott',\n",
       " 'Morrison',\n",
       " '.',\n",
       " 'There',\n",
       " 'are',\n",
       " 'no',\n",
       " 'greater',\n",
       " 'friends',\n",
       " 'than',\n",
       " 'the',\n",
       " 'United',\n",
       " 'States',\n",
       " 'and',\n",
       " 'Australia',\n",
       " '!']"
      ]
     },
     "execution_count": 3,
     "metadata": {},
     "output_type": "execute_result"
    }
   ],
   "source": [
    "from nltk.tokenize import TweetTokenizer\n",
    "text = 'Congratulations to new Australian Prime Minister Scott Morrison. There are no greater friends than the United States and Australia!'\n",
    "twtkn = TweetTokenizer()\n",
    "twtkn.tokenize(text)"
   ]
  },
  {
   "cell_type": "code",
   "execution_count": 14,
   "metadata": {},
   "outputs": [
    {
     "data": {
      "text/plain": [
       "[Synset('car.n.01'), Synset('automobile.v.01')]"
      ]
     },
     "execution_count": 14,
     "metadata": {},
     "output_type": "execute_result"
    }
   ],
   "source": [
    "from nltk.corpus import wordnet as wn\n",
    "wn.synsets('automobile')"
   ]
  },
  {
   "cell_type": "code",
   "execution_count": 15,
   "metadata": {},
   "outputs": [
    {
     "data": {
      "text/plain": [
       "['car', 'auto', 'automobile', 'machine', 'motorcar']"
      ]
     },
     "execution_count": 15,
     "metadata": {},
     "output_type": "execute_result"
    }
   ],
   "source": [
    "wn.synset('automobile.n.01').lemma_names()"
   ]
  },
  {
   "cell_type": "code",
   "execution_count": 7,
   "metadata": {},
   "outputs": [
    {
     "data": {
      "text/plain": [
       "['i',\n",
       " 'me',\n",
       " 'my',\n",
       " 'myself',\n",
       " 'we',\n",
       " 'our',\n",
       " 'ours',\n",
       " 'ourselves',\n",
       " 'you',\n",
       " \"you're\",\n",
       " \"you've\",\n",
       " \"you'll\",\n",
       " \"you'd\",\n",
       " 'your',\n",
       " 'yours',\n",
       " 'yourself',\n",
       " 'yourselves',\n",
       " 'he',\n",
       " 'him',\n",
       " 'his',\n",
       " 'himself',\n",
       " 'she',\n",
       " \"she's\",\n",
       " 'her',\n",
       " 'hers',\n",
       " 'herself',\n",
       " 'it',\n",
       " \"it's\",\n",
       " 'its',\n",
       " 'itself',\n",
       " 'they',\n",
       " 'them',\n",
       " 'their',\n",
       " 'theirs',\n",
       " 'themselves',\n",
       " 'what',\n",
       " 'which',\n",
       " 'who',\n",
       " 'whom',\n",
       " 'this',\n",
       " 'that',\n",
       " \"that'll\",\n",
       " 'these',\n",
       " 'those',\n",
       " 'am',\n",
       " 'is',\n",
       " 'are',\n",
       " 'was',\n",
       " 'were',\n",
       " 'be',\n",
       " 'been',\n",
       " 'being',\n",
       " 'have',\n",
       " 'has',\n",
       " 'had',\n",
       " 'having',\n",
       " 'do',\n",
       " 'does',\n",
       " 'did',\n",
       " 'doing',\n",
       " 'a',\n",
       " 'an',\n",
       " 'the',\n",
       " 'and',\n",
       " 'but',\n",
       " 'if',\n",
       " 'or',\n",
       " 'because',\n",
       " 'as',\n",
       " 'until',\n",
       " 'while',\n",
       " 'of',\n",
       " 'at',\n",
       " 'by',\n",
       " 'for',\n",
       " 'with',\n",
       " 'about',\n",
       " 'against',\n",
       " 'between',\n",
       " 'into',\n",
       " 'through',\n",
       " 'during',\n",
       " 'before',\n",
       " 'after',\n",
       " 'above',\n",
       " 'below',\n",
       " 'to',\n",
       " 'from',\n",
       " 'up',\n",
       " 'down',\n",
       " 'in',\n",
       " 'out',\n",
       " 'on',\n",
       " 'off',\n",
       " 'over',\n",
       " 'under',\n",
       " 'again',\n",
       " 'further',\n",
       " 'then',\n",
       " 'once',\n",
       " 'here',\n",
       " 'there',\n",
       " 'when',\n",
       " 'where',\n",
       " 'why',\n",
       " 'how',\n",
       " 'all',\n",
       " 'any',\n",
       " 'both',\n",
       " 'each',\n",
       " 'few',\n",
       " 'more',\n",
       " 'most',\n",
       " 'other',\n",
       " 'some',\n",
       " 'such',\n",
       " 'no',\n",
       " 'nor',\n",
       " 'not',\n",
       " 'only',\n",
       " 'own',\n",
       " 'same',\n",
       " 'so',\n",
       " 'than',\n",
       " 'too',\n",
       " 'very',\n",
       " 's',\n",
       " 't',\n",
       " 'can',\n",
       " 'will',\n",
       " 'just',\n",
       " 'don',\n",
       " \"don't\",\n",
       " 'should',\n",
       " \"should've\",\n",
       " 'now',\n",
       " 'd',\n",
       " 'll',\n",
       " 'm',\n",
       " 'o',\n",
       " 're',\n",
       " 've',\n",
       " 'y',\n",
       " 'ain',\n",
       " 'aren',\n",
       " \"aren't\",\n",
       " 'couldn',\n",
       " \"couldn't\",\n",
       " 'didn',\n",
       " \"didn't\",\n",
       " 'doesn',\n",
       " \"doesn't\",\n",
       " 'hadn',\n",
       " \"hadn't\",\n",
       " 'hasn',\n",
       " \"hasn't\",\n",
       " 'haven',\n",
       " \"haven't\",\n",
       " 'isn',\n",
       " \"isn't\",\n",
       " 'ma',\n",
       " 'mightn',\n",
       " \"mightn't\",\n",
       " 'mustn',\n",
       " \"mustn't\",\n",
       " 'needn',\n",
       " \"needn't\",\n",
       " 'shan',\n",
       " \"shan't\",\n",
       " 'shouldn',\n",
       " \"shouldn't\",\n",
       " 'wasn',\n",
       " \"wasn't\",\n",
       " 'weren',\n",
       " \"weren't\",\n",
       " 'won',\n",
       " \"won't\",\n",
       " 'wouldn',\n",
       " \"wouldn't\"]"
      ]
     },
     "execution_count": 7,
     "metadata": {},
     "output_type": "execute_result"
    }
   ],
   "source": [
    "from nltk.corpus import stopwords\n",
    "stopwords.words('english')"
   ]
  },
  {
   "cell_type": "code",
   "execution_count": 5,
   "metadata": {},
   "outputs": [
    {
     "name": "stdout",
     "output_type": "stream",
     "text": [
      "(\"addidas's\", ['AH0', 'D', 'IY1', 'D', 'AH0', 'S', 'IH0', 'Z'])\n",
      "('addie', ['AE1', 'D', 'IY0'])\n",
      "('adding', ['AE1', 'D', 'IH0', 'NG'])\n",
      "('addington', ['AE1', 'D', 'IH0', 'NG', 'T', 'AH0', 'N'])\n",
      "('addis', ['AA1', 'D', 'IH0', 'S'])\n",
      "('addis-ababa', ['AA1', 'D', 'IH0', 'S', 'AH0', 'B', 'AA1', 'B', 'AH0'])\n",
      "('addis-ababa', ['AA1', 'D', 'IY0', 'S', 'AH0', 'B', 'AA1', 'B', 'AH0'])\n",
      "('addison', ['AE1', 'D', 'AH0', 'S', 'AH0', 'N'])\n",
      "('addison', ['AE1', 'D', 'IH0', 'S', 'AH0', 'N'])\n",
      "(\"addison's\", ['AE1', 'D', 'IH0', 'S', 'AH0', 'N', 'Z'])\n",
      "('addition', ['AH0', 'D', 'IH1', 'SH', 'AH0', 'N'])\n",
      "('additional', ['AH0', 'D', 'IH1', 'SH', 'AH0', 'N', 'AH0', 'L'])\n",
      "('additional', ['AH0', 'D', 'IH1', 'SH', 'N', 'AH0', 'L'])\n",
      "('additionally', ['AH0', 'D', 'IH1', 'SH', 'AH0', 'N', 'AH0', 'L', 'IY0'])\n",
      "('additionally', ['AH0', 'D', 'IH1', 'SH', 'N', 'AH0', 'L', 'IY0'])\n",
      "('additions', ['AH0', 'D', 'IH1', 'SH', 'AH0', 'N', 'Z'])\n",
      "('additive', ['AE1', 'D', 'AH0', 'T', 'IH0', 'V'])\n",
      "('additive', ['AE1', 'D', 'IH0', 'T', 'IH0', 'V'])\n",
      "('additives', ['AE1', 'D', 'AH0', 'T', 'IH0', 'V', 'Z'])\n",
      "('additives', ['AE1', 'D', 'IH0', 'T', 'IH0', 'V', 'Z'])\n",
      "('addle', ['AE1', 'D', 'AH0', 'L'])\n",
      "('addled', ['AE1', 'D', 'AH0', 'L', 'D'])\n",
      "('addleman', ['AE1', 'D', 'AH0', 'L', 'M', 'AH0', 'N'])\n",
      "('address', ['AE1', 'D', 'R', 'EH2', 'S'])\n",
      "('address', ['AH0', 'D', 'R', 'EH1', 'S'])\n",
      "('addressable', ['AH0', 'D', 'R', 'EH1', 'S', 'AH0', 'B', 'AH0', 'L'])\n",
      "('addressed', ['AH0', 'D', 'R', 'EH1', 'S', 'T'])\n",
      "('addressee', ['AE2', 'D', 'R', 'EH0', 'S', 'IY1'])\n",
      "('addresses', ['AE1', 'D', 'R', 'EH1', 'S', 'IH0', 'Z'])\n",
      "('addresses', ['AH0', 'D', 'R', 'EH1', 'S', 'IH0', 'Z'])\n",
      "('addressing', ['AH0', 'D', 'R', 'EH1', 'S', 'IH0', 'NG'])\n",
      "('adds', ['AE1', 'D', 'Z'])\n",
      "('adduci', ['AA0', 'D', 'UW1', 'CH', 'IY0'])\n",
      "('adduct', ['AE1', 'D', 'AH0', 'K', 'T'])\n",
      "('addwest', ['AE2', 'D', 'W', 'EH1', 'S', 'T'])\n",
      "('addy', ['AE1', 'D', 'IY0'])\n",
      "('addyston', ['AE1', 'D', 'IY0', 'S', 'T', 'AH0', 'N'])\n",
      "('ade', ['EY1', 'D'])\n",
      "('adee', ['AH0', 'D', 'IY1'])\n",
      "('adel', ['AH0', 'D', 'EH1', 'L'])\n",
      "('adela', ['AH0', 'D', 'EH1', 'L', 'AH0'])\n",
      "('adelaar', ['AE1', 'D', 'AH0', 'L', 'AA2', 'R'])\n",
      "('adelaide', ['AE1', 'D', 'AH0', 'L', 'EY2', 'D'])\n",
      "('adelanto', ['AE0', 'D', 'AH0', 'L', 'AA1', 'N', 'T', 'OW0'])\n",
      "('adelbert', ['AH0', 'D', 'EH1', 'L', 'B', 'ER0', 'T'])\n",
      "('adele', ['AH0', 'D', 'EH1', 'L'])\n",
      "(\"adele's\", ['AH0', 'D', 'EH1', 'L', 'Z'])\n",
      "('adeline', ['AE1', 'D', 'AH0', 'L', 'AY2', 'N'])\n",
      "('adelizzi', ['AE2', 'D', 'AH0', 'L', 'IY1', 'Z', 'IY0'])\n",
      "('adell', ['AH0', 'D', 'EH1', 'L'])\n"
     ]
    }
   ],
   "source": [
    "import nltk \n",
    "entries = nltk.corpus.cmudict.entries()\n",
    "len(entries)\n",
    "for entry in entries[1000:1050]:\n",
    "    print (entry)"
   ]
  },
  {
   "cell_type": "code",
   "execution_count": 6,
   "metadata": {},
   "outputs": [
    {
     "name": "stdout",
     "output_type": "stream",
     "text": [
      "[('Rabbits', 'NNS'), ('are', 'VBP'), ('small', 'JJ'), ('mammals', 'NNS'), ('in', 'IN'), ('the', 'DT'), ('family', 'NN'), ('Leporidae', 'NNP'), ('of', 'IN'), ('the', 'DT'), ('order', 'NN'), ('Lagomorpha', 'NNP'), ('(', '('), ('along', 'IN'), ('with', 'IN'), ('the', 'DT'), ('hare', 'NN'), ('and', 'CC'), ('the', 'DT'), ('pika', 'NN'), (')', ')'), ('.', '.')]\n",
      "[('Oryctolagus', 'NNP'), ('cuniculus', 'NN'), ('includes', 'VBZ'), ('the', 'DT'), ('European', 'JJ'), ('rabbit', 'NN'), ('species', 'NNS'), ('and', 'CC'), ('its', 'PRP$'), ('descendants', 'NNS'), (',', ','), ('the', 'DT'), ('world', 'NN'), (\"'s\", 'POS'), ('305', 'CD'), ('breeds', 'NNS'), ('[', 'JJ'), ('1', 'CD'), (']', 'NN'), ('of', 'IN'), ('domestic', 'JJ'), ('rabbit', 'NN'), ('.', '.')]\n"
     ]
    }
   ],
   "source": [
    "import nltk \n",
    "texts = [\"\"\"Rabbits are small mammals in the family Leporidae \n",
    "of the order Lagomorpha (along with the hare and the pika). Oryctolagus cuniculus includes the European rabbit species and its descendants, the world's 305 breeds[1] of domestic rabbit.\"\"\"] \n",
    "for text in texts:\n",
    "    sentences = nltk.sent_tokenize(text)\n",
    "    for sentence in sentences:\n",
    "        words = nltk.word_tokenize(sentence)\n",
    "        tagged_words = nltk.pos_tag(words)\n",
    "        print (tagged_words)"
   ]
  },
  {
   "cell_type": "code",
   "execution_count": null,
   "metadata": {
    "collapsed": true
   },
   "outputs": [],
   "source": []
  }
 ],
 "metadata": {
  "kernelspec": {
   "display_name": "Python 3",
   "language": "python",
   "name": "python3"
  },
  "language_info": {
   "codemirror_mode": {
    "name": "ipython",
    "version": 3
   },
   "file_extension": ".py",
   "mimetype": "text/x-python",
   "name": "python",
   "nbconvert_exporter": "python",
   "pygments_lexer": "ipython3",
   "version": "3.6.3"
  }
 },
 "nbformat": 4,
 "nbformat_minor": 2
}
