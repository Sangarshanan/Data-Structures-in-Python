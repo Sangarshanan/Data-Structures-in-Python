{
 "cells": [
  {
   "cell_type": "markdown",
   "metadata": {},
   "source": [
    "# Basics of Linked List in Python\n",
    "\n",
    "Compiled from various online resources"
   ]
  },
  {
   "cell_type": "code",
   "execution_count": 51,
   "metadata": {},
   "outputs": [],
   "source": [
    "########## CREATION OF A SINGLY LINKED LIST #############\n",
    "\n",
    "\n",
    "# ASSIGN ELEMENT TO NODE AND LINK IT TO THE NEXT ELEMENT\n",
    "class Node:\n",
    "    def __init__(self, data=None):\n",
    "        self.data = data\n",
    "        self.next = None\n",
    "\n",
    "# ADD A ROOT NODE FROM WHICH IS THE HEAD OF THE LINKED LIST\n",
    "\n",
    "class SinglyLinkedList:\n",
    "    def __init__(self):\n",
    "        self.head = None"
   ]
  },
  {
   "cell_type": "markdown",
   "metadata": {},
   "source": [
    "### Definition:\n",
    "\n",
    "A linked list is a sequence of data elements, which are connected together via links. Each data element contains a connection to another data element in form of a pointer. In python we implement linked list using nodes"
   ]
  },
  {
   "cell_type": "code",
   "execution_count": 52,
   "metadata": {},
   "outputs": [],
   "source": [
    "#Initialize the Linked list and assign the head\n",
    "element = SinglyLinkedList()\n",
    "element.head = Node(\"First\")\n",
    "element_2 = Node(\"Second\")\n",
    "element_3 = Node(\"Third\")\n",
    "# Link first Node to second node\n",
    "element.head.next = element_2\n",
    "# Link second Node to third node\n",
    "element_3.nextval = element_3"
   ]
  },
  {
   "cell_type": "code",
   "execution_count": 53,
   "metadata": {},
   "outputs": [
    {
     "name": "stdout",
     "output_type": "stream",
     "text": [
      "First element: First\n",
      "Second element: Second\n",
      "Third element: Third\n"
     ]
    }
   ],
   "source": [
    "print(\"First element:\",element.head.data)\n",
    "print(\"Second element:\",element_2.data)\n",
    "print(\"Third element:\",element_3.data)"
   ]
  },
  {
   "cell_type": "markdown",
   "metadata": {},
   "source": [
    "### Traversing the linked list:\n",
    "\n",
    "Singly linked lists can be traversed in only forwrad direction starting form the first data element. We simply print the value of the next data element by assgining the pointer of the next node to the current data element."
   ]
  },
  {
   "cell_type": "code",
   "execution_count": 73,
   "metadata": {
    "collapsed": true
   },
   "outputs": [],
   "source": [
    "class Node:\n",
    "    def __init__(self, dataval=None):\n",
    "        self.dataval = dataval\n",
    "        self.nextval = None\n",
    "\n",
    "## Traverse will traverse the list from the head till the next elements is none(Last element) ##\n",
    "\n",
    "class SinglyLinkedList:\n",
    "    def __init__(self):\n",
    "        self.headval = None\n",
    "\n",
    "    def traverse(self):\n",
    "        printval = self.headval\n",
    "        while printval is not None:\n",
    "            print (printval.dataval)\n",
    "            printval = printval.nextval\n"
   ]
  },
  {
   "cell_type": "code",
   "execution_count": 74,
   "metadata": {},
   "outputs": [
    {
     "name": "stdout",
     "output_type": "stream",
     "text": [
      "First\n",
      "Second\n",
      "Third\n"
     ]
    }
   ],
   "source": [
    "list1 = SinglyLinkedList()\n",
    "list1.headval = Node(\"First\")\n",
    "e2 = Node(\"Second\")\n",
    "e3 = Node(\"Third\")\n",
    "list1.headval.nextval = e2\n",
    "e2.nextval = e3\n",
    "list1.traverse()"
   ]
  },
  {
   "cell_type": "markdown",
   "metadata": {},
   "source": [
    "### Inserting element in the Beginning of the linked list:\n",
    "\n",
    "Inserting element in the linked list involves reassigning the pointers from the existing nodes to the newly inserted node. Depending on whether the new data element is getting inserted at the beginning or at the middle or at the end of the linked list.\n",
    "\n"
   ]
  },
  {
   "cell_type": "code",
   "execution_count": 78,
   "metadata": {},
   "outputs": [],
   "source": [
    "class Node:\n",
    "    def __init__(self, dataval=None):\n",
    "        self.dataval = dataval\n",
    "        self.nextval = None\n",
    "\n",
    "class SinglyLinkedList:\n",
    "    def __init__(self):\n",
    "        self.headval = None\n",
    "    def listprint(self):\n",
    "        printval = self.headval\n",
    "        while printval is not None:\n",
    "            print (printval.dataval)\n",
    "            printval = printval.nextval\n",
    "\n",
    "#### SET THE ELEMENT TO BE INSERTED AS THE ROOT NODE AND THE INITIAL LINKEDLIST AS THE NEXT NODE ####\n",
    "\n",
    "    def insert_at_start(self,newdata):\n",
    "        NewNode = Node(newdata)\n",
    "        NewNode.nextval = self.headval\n",
    "        self.headval = NewNode"
   ]
  },
  {
   "cell_type": "code",
   "execution_count": 83,
   "metadata": {},
   "outputs": [
    {
     "name": "stdout",
     "output_type": "stream",
     "text": [
      "#### BEFORE INSERTION ####\n",
      "\n",
      "First\n",
      "Second\n",
      "Third\n",
      "\n",
      "#### AFTER INSERTION ####\n",
      "\n",
      "Zero\n",
      "First\n",
      "Second\n",
      "Third\n"
     ]
    }
   ],
   "source": [
    "element = SinglyLinkedList()\n",
    "element.headval = Node(\"First\")\n",
    "element_2 = Node(\"Second\")\n",
    "element_3 = Node(\"Third\")\n",
    "element.headval.nextval = element_2\n",
    "element_2.nextval = element_3\n",
    "print(\"#### BEFORE INSERTION ####\\n\")\n",
    "element.listprint()\n",
    "element.insert_at_start(\"Zero\")\n",
    "print(\"\\n#### AFTER INSERTION ####\\n\")\n",
    "element.listprint()"
   ]
  },
  {
   "cell_type": "markdown",
   "metadata": {},
   "source": [
    "### Inserting element at the end of the linked list:\n",
    "\n",
    "This involves pointing the next pointer of the the current last node of the linked list to the new data node. So the current last node of the linked list becomes the second last data node and the new node becomes the last node of the linked list.\n"
   ]
  },
  {
   "cell_type": "code",
   "execution_count": 105,
   "metadata": {
    "collapsed": true
   },
   "outputs": [],
   "source": [
    "class Node:\n",
    "    def __init__(self, dataval=None):\n",
    "        self.dataval = dataval\n",
    "        self.nextval = None\n",
    "\n",
    "class SinglyLinkedList:\n",
    "    def __init__(self):\n",
    "        self.headval = None\n",
    "    def listprint(self):\n",
    "        printval = self.headval\n",
    "        while printval is not None:\n",
    "            print (printval.dataval)\n",
    "            printval = printval.nextval\n",
    "\n",
    "            \n",
    "\n",
    "#### CHECK IF THE LINKEDLIST IS NOT EMPTY AND THEN ITERATE THROUGH THE LIST AND INSEERT THE ELEMENT IN THE END ####\n",
    "\n",
    "    def AtEnd(self, newdata):\n",
    "        NewNode = Node(newdata)\n",
    "#### CHECK IF THE LIST IS NULL        \n",
    "        if self.headval is None:\n",
    "            self.headval = NewNode\n",
    "            return\n",
    "#### ITERATE THROUGH THE LIST \n",
    "        last = self.headval\n",
    "        while(last.nextval):\n",
    "            last = last.nextval\n",
    "#### INSERT THE NEW ELEMENT IN THE END\n",
    "        last.nextval=NewNode"
   ]
  },
  {
   "cell_type": "code",
   "execution_count": 107,
   "metadata": {},
   "outputs": [
    {
     "name": "stdout",
     "output_type": "stream",
     "text": [
      "#### BEFORE INSERTION ####\n",
      "\n",
      "First\n",
      "Second\n",
      "Third\n",
      "\n",
      "#### AFTER INSERTION ####\n",
      "\n",
      "First\n",
      "Second\n",
      "Third\n",
      "Fourth\n"
     ]
    }
   ],
   "source": [
    "element = SinglyLinkedList()\n",
    "element.headval = Node(\"First\")\n",
    "element_2 = Node(\"Second\")\n",
    "element_3 = Node(\"Third\")\n",
    "element.headval.nextval = element_2\n",
    "element_2.nextval = element_3\n",
    "print(\"#### BEFORE INSERTION ####\\n\")\n",
    "element.listprint()\n",
    "element.AtEnd(\"Fourth\")\n",
    "print(\"\\n#### AFTER INSERTION ####\\n\")\n",
    "element.listprint()"
   ]
  },
  {
   "cell_type": "markdown",
   "metadata": {},
   "source": [
    "### Inserting in between two Data Nodes:\n",
    "\n",
    "This involves chaging the pointer of a specific node to point to the new node. That is possible by passing in both the new node and the existing node after which the new node will be inserted. So we define an additional class which will change the next pointer of the new node to the next pointer of middle node. Then assign the new node to next pointer of the middle node.\n",
    "\n"
   ]
  },
  {
   "cell_type": "code",
   "execution_count": 108,
   "metadata": {
    "collapsed": true
   },
   "outputs": [],
   "source": [
    "class Node:\n",
    "    def __init__(self, dataval=None):\n",
    "        self.dataval = dataval\n",
    "        self.nextval = None\n",
    "\n",
    "class SinglyLinkedList:\n",
    "    def __init__(self):\n",
    "        self.headval = None\n",
    "    def listprint(self):\n",
    "        printval = self.headval\n",
    "        while printval is not None:\n",
    "            print (printval.dataval)\n",
    "            printval = printval.nextval\n",
    "            \n",
    "            \n",
    "### OUR GOAL IS TO INSERT THE NEW NODE NEXT TO THE GIVEN MODE ###\n",
    "            \n",
    "    def between(self,given_node,newdata):\n",
    "\n",
    "### FIRST CHECK IF THE GIVEN NODE IS PRESENT\n",
    "\n",
    "        if given_node is None:\n",
    "            print(\"There is no such node\")\n",
    "            return\n",
    "        \n",
    "### SET THE NEXTNODE OF THE GIVEN NODE AS THE VALUE THAT WE NEED TO INSERT\n",
    "\n",
    "        NewNode = Node(newdata)\n",
    "        NewNode.nextval = given_node.nextval\n",
    "        given_node.nextval = NewNode"
   ]
  },
  {
   "cell_type": "code",
   "execution_count": 110,
   "metadata": {},
   "outputs": [
    {
     "name": "stdout",
     "output_type": "stream",
     "text": [
      "#### BEFORE INSERTION ####\n",
      "\n",
      "First\n",
      "Second\n",
      "Fourth\n",
      "\n",
      "#### AFTER INSERTION ####\n",
      "\n",
      "First\n",
      "Second\n",
      "Third\n",
      "Fourth\n"
     ]
    }
   ],
   "source": [
    "element = SinglyLinkedList()\n",
    "element.headval = Node(\"First\")\n",
    "element_2 = Node(\"Second\")\n",
    "element_3 = Node(\"Fourth\")\n",
    "element.headval.nextval = element_2\n",
    "element_2.nextval = element_3\n",
    "print(\"#### BEFORE INSERTION ####\\n\")\n",
    "element.listprint()\n",
    "element.between(element.headval.nextval,\"Third\")\n",
    "print(\"\\n#### AFTER INSERTION ####\\n\")\n",
    "element.listprint()"
   ]
  },
  {
   "cell_type": "markdown",
   "metadata": {},
   "source": [
    "### Print the location of an element in a linked list:\n",
    "\n",
    "Traverse through the linked list and print its location after its been located"
   ]
  },
  {
   "cell_type": "code",
   "execution_count": 151,
   "metadata": {
    "collapsed": true
   },
   "outputs": [],
   "source": [
    "class Node:\n",
    "    def __init__(self, dataval=None):\n",
    "        self.dataval = dataval\n",
    "        self.nextval = None\n",
    "\n",
    "class SinglyLinkedList:\n",
    "    def __init__(self):\n",
    "        self.headval = None\n",
    "    def listprint(self):\n",
    "        printval = self.headval\n",
    "        while printval is not None:\n",
    "            print (printval.dataval)\n",
    "            printval = printval.nextval\n",
    "            \n",
    "    def findNode(self,value):\n",
    "        i=0\n",
    "        curr = self.headval\n",
    "        while curr:\n",
    "            if curr.dataval == value:\n",
    "                return i+1\n",
    "            i+=1\n",
    "            curr = curr.nextval\n",
    "        return \"The element is not in the LinkedList\""
   ]
  },
  {
   "cell_type": "code",
   "execution_count": 153,
   "metadata": {},
   "outputs": [
    {
     "name": "stdout",
     "output_type": "stream",
     "text": [
      "Location of FIRST is: 1\n",
      "Location of SECOND is: 2\n",
      "Location of THIRD is: 3\n",
      "Location of FOURTH is: 4\n"
     ]
    }
   ],
   "source": [
    "element = SinglyLinkedList()\n",
    "element.headval = Node(\"First\")\n",
    "element_2 = Node(\"Second\")\n",
    "element_3 = Node(\"Third\")\n",
    "element_4 = Node(\"Fourth\")\n",
    "\n",
    "element.headval.nextval = element_2\n",
    "element_2.nextval = element_3\n",
    "element_3.nextval = element_4\n",
    "\n",
    "print(\"Location of FIRST is:\",element.findNode(\"First\"))\n",
    "print(\"Location of SECOND is:\",element.findNode(\"Second\"))\n",
    "print(\"Location of THIRD is:\",element.findNode(\"Third\"))\n",
    "print(\"Location of FOURTH is:\",element.findNode(\"Fourth\"))"
   ]
  },
  {
   "cell_type": "markdown",
   "metadata": {},
   "source": [
    "### Delete an element in a linked list"
   ]
  },
  {
   "cell_type": "code",
   "execution_count": 250,
   "metadata": {
    "collapsed": true
   },
   "outputs": [],
   "source": [
    "class Node:\n",
    "    def __init__(self, dataval=None):\n",
    "        self.dataval = dataval\n",
    "        self.nextval = None\n",
    "\n",
    "class SinglyLinkedList:\n",
    "    def __init__(self):\n",
    "        self.headval = None\n",
    "    def listprint(self):\n",
    "        printval = self.headval\n",
    "        while printval is not None:\n",
    "            print (printval.dataval)\n",
    "            printval = printval.nextval\n",
    "    def remove(self, node):\n",
    "        prev_node = self.get_prev_node(node)\n",
    "        if prev_node is None:\n",
    "            self.headval = self.headval.nextval\n",
    "        else:\n",
    "            prev_node.nextval = node.nextval\n",
    "    def get_prev_node(self, ref_node):\n",
    "        current = self.headval\n",
    "        while (current and current.nextval != ref_node):\n",
    "            current = current.nextval\n",
    "        return current"
   ]
  },
  {
   "cell_type": "code",
   "execution_count": 255,
   "metadata": {},
   "outputs": [
    {
     "name": "stdout",
     "output_type": "stream",
     "text": [
      "#### BEFORE DELETING ####\n",
      "\n",
      "First\n",
      "Second\n",
      "Third\n",
      "Fourth\n",
      "\n",
      "#### AFTER DELETING ELEMENT 2 ####\n",
      "\n",
      "First\n",
      "Third\n",
      "Fourth\n",
      "\n",
      "#### AFTER DELETING ELEMENT 3 ####\n",
      "\n",
      "First\n",
      "Fourth\n"
     ]
    }
   ],
   "source": [
    "element = SinglyLinkedList()\n",
    "element.headval = Node(\"First\")\n",
    "element_2 = Node(\"Second\")\n",
    "element_3 = Node(\"Third\")\n",
    "element_4 = Node(\"Fourth\")\n",
    "\n",
    "element.headval.nextval = element_2\n",
    "element_2.nextval = element_3\n",
    "element_3.nextval = element_4\n",
    "\n",
    "print(\"#### BEFORE DELETING ####\\n\")\n",
    "element.listprint()\n",
    "\n",
    "print(\"\\n#### AFTER DELETING ELEMENT 2 ####\\n\")\n",
    "element.remove(element_2)\n",
    "element.listprint()\n",
    "\n",
    "print(\"\\n#### AFTER DELETING ELEMENT 3 ####\\n\")\n",
    "element.remove(element_3)\n",
    "element.listprint()"
   ]
  },
  {
   "cell_type": "markdown",
   "metadata": {},
   "source": [
    "### Reverse a linked list:\n",
    "\n",
    "The function reverse_list iterates through the list using three pointers to reverse it.\n",
    "\n"
   ]
  },
  {
   "cell_type": "code",
   "execution_count": 234,
   "metadata": {},
   "outputs": [],
   "source": [
    "class Node:\n",
    "    def __init__(self, dataval=None):\n",
    "        self.dataval = dataval\n",
    "        self.nextval = None\n",
    "\n",
    "class SinglyLinkedList:\n",
    "    def __init__(self):\n",
    "        self.headval = None\n",
    "    def listprint(self):\n",
    "        printval = self.headval\n",
    "        while printval is not None:\n",
    "            print (printval.dataval)\n",
    "            printval = printval.nextval\n",
    "        \n",
    "####  REVERSING A LINKED LIST  ####   \n",
    "            \n",
    "def reverse_list(llist):\n",
    "    before = None\n",
    "    current = llist.headval\n",
    "\n",
    "    if current is None:\n",
    "        return\n",
    "\n",
    "    after = current.nextval\n",
    "    while after:\n",
    "        current.nextval = before \n",
    "        before = current \n",
    "        current = after \n",
    "        after = after.nextval\n",
    "    current.nextval = before\n",
    "    llist.headval = current"
   ]
  },
  {
   "cell_type": "code",
   "execution_count": 235,
   "metadata": {},
   "outputs": [
    {
     "name": "stdout",
     "output_type": "stream",
     "text": [
      "#### BEFORE REVERSING ####\n",
      "\n",
      "First\n",
      "Second\n",
      "Third\n",
      "Fourth\n",
      "\n",
      "#### AFTER REVERSING ####\n",
      "\n",
      "Fourth\n",
      "Third\n",
      "Second\n",
      "First\n"
     ]
    }
   ],
   "source": [
    "element = SinglyLinkedList()\n",
    "element.headval = Node(\"First\")\n",
    "element_2 = Node(\"Second\")\n",
    "element_3 = Node(\"Third\")\n",
    "element_4 = Node(\"Fourth\")\n",
    "\n",
    "element.headval.nextval = element_2\n",
    "element_2.nextval = element_3\n",
    "element_3.nextval = element_4\n",
    "\n",
    "print(\"#### BEFORE REVERSING ####\\n\")\n",
    "element.listprint()\n",
    "\n",
    "print(\"\\n#### AFTER REVERSING ####\\n\")\n",
    "reverse_list(element)\n",
    "element.listprint()"
   ]
  },
  {
   "cell_type": "markdown",
   "metadata": {},
   "source": [
    "### Remove Duplicates from a linked list"
   ]
  },
  {
   "cell_type": "code",
   "execution_count": 256,
   "metadata": {},
   "outputs": [],
   "source": [
    "class Node:\n",
    "    def __init__(self, dataval=None):\n",
    "        self.dataval = dataval\n",
    "        self.nextval = None\n",
    "\n",
    "class SinglyLinkedList:\n",
    "    def __init__(self):\n",
    "        self.headval = None\n",
    "    def listprint(self):\n",
    "        printval = self.headval\n",
    "        while printval is not None:\n",
    "            print (printval.dataval)\n",
    "            printval = printval.nextval\n",
    "    def remove(self, node):\n",
    "        prev_node = self.get_prev_node(node)\n",
    "        if prev_node is None:\n",
    "            self.headval = self.headval.nextval\n",
    "        else:\n",
    "            prev_node.nextval = node.nextval\n",
    "    def get_prev_node(self, ref_node):\n",
    "        current = self.headval\n",
    "        while (current and current.nextval != ref_node):\n",
    "            current = current.nextval\n",
    "        return current\n",
    "\n",
    "\n",
    "\n",
    "\n",
    "def unique(llist):\n",
    "    current1 = llist.headval\n",
    "    while current1:\n",
    "        dataval = current1.dataval\n",
    "        current2 = current1.nextval\n",
    "        while current2:\n",
    "            if current2.dataval == dataval:\n",
    "                llist.remove(current2)\n",
    "            current2 = current2.nextval\n",
    "        current1 = current1.nextval"
   ]
  },
  {
   "cell_type": "code",
   "execution_count": 257,
   "metadata": {},
   "outputs": [
    {
     "name": "stdout",
     "output_type": "stream",
     "text": [
      "#### BEFORE DUPLICATE REMOVAL ####\n",
      "\n",
      "First\n",
      "First\n",
      "Second\n",
      "Third\n",
      "\n",
      "#### AFTER DUPLICATE REMOVAL ####\n",
      "\n",
      "First\n",
      "Second\n",
      "Third\n"
     ]
    }
   ],
   "source": [
    "element = SinglyLinkedList()\n",
    "element.headval = Node(\"First\")\n",
    "element_2 = Node(\"First\")\n",
    "element_3 = Node(\"Second\")\n",
    "element_4 = Node(\"Third\")\n",
    "\n",
    "element.headval.nextval = element_2\n",
    "element_2.nextval = element_3\n",
    "element_3.nextval = element_4\n",
    "\n",
    "print(\"#### BEFORE DUPLICATE REMOVAL ####\\n\")\n",
    "element.listprint()\n",
    "\n",
    "print(\"\\n#### AFTER DUPLICATE REMOVAL ####\\n\")\n",
    "unique(element)\n",
    "element.listprint()"
   ]
  },
  {
   "cell_type": "code",
   "execution_count": null,
   "metadata": {
    "collapsed": true
   },
   "outputs": [],
   "source": []
  },
  {
   "cell_type": "code",
   "execution_count": null,
   "metadata": {
    "collapsed": true
   },
   "outputs": [],
   "source": []
  }
 ],
 "metadata": {
  "kernelspec": {
   "display_name": "Python 3",
   "language": "python",
   "name": "python3"
  },
  "language_info": {
   "codemirror_mode": {
    "name": "ipython",
    "version": 3
   },
   "file_extension": ".py",
   "mimetype": "text/x-python",
   "name": "python",
   "nbconvert_exporter": "python",
   "pygments_lexer": "ipython3",
   "version": "3.6.3"
  }
 },
 "nbformat": 4,
 "nbformat_minor": 2
}
